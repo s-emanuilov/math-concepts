{
 "cells": [
  {
   "cell_type": "markdown",
   "metadata": {
    "collapsed": true,
    "pycharm": {
     "is_executing": false
    }
   },
   "source": [
    "## Definitions\n",
    "\n",
    "- the scientific method relies on experiments\n",
    "  - initial conditions —> outcome\n",
    "  - usually we control the initial conditions to isolate the outcome\n",
    "- random event\n",
    "  - a set of outcomes of an experiment\n",
    "  - each outcome happens with a certain probability\n",
    "- random variable\n",
    "  - an expression whose value is the outcome of the experiment\n",
    "  - usually denoted with X, Y, Z... (capital letters)\n",
    "- it is not possible to predict the next outcome of a random event!\n",
    "  - but we can perform the same experiment many times (trials)\n",
    "  - the patterns and laws become more apparent with more trials "
   ]
  },
  {
   "cell_type": "markdown",
   "metadata": {},
   "source": [
    "## Frequency\n",
    "\n",
    "- Let's perform the same experiment many times\n",
    "  - under the same conditions\n",
    "  - ...such as throwing a dice\n",
    "- assign a frequency to each number i = [1,2,...,6] that the dice shows\n",
    "  - **m** - number of trials we got **i**, **n** - all trials\n",
    "  - $ f_i =\\frac{m_i}{n}$\n",
    "- as n increases, $f_i$ \"stabilizes\" around some number\n",
    "- we cannot perform infinitely many experiments\n",
    "  - but we can \"extend\" the trials mathematically\n",
    "  - $p(A) = \\lim_{n\\to\\infty}\\frac{m}{n}$\n",
    "- we call this the probability of outcome A\n",
    "  - statistical definition of probability"
   ]
  },
  {
   "cell_type": "markdown",
   "metadata": {},
   "source": [
    "## Examples\n",
    "\n",
    "- rolling a dice\n",
    "  - possible outcomes: {1,2,3,4,5,6)\n",
    "  - fair dice - all outcomes are equally likely\n",
    "  - $p(1) = p(2) = ... = p(6) = 1/6$\n",
    "- tossing a fair coin\n",
    "  - possible outcomes: {0 = heads,1 = tails}\n",
    "  - $p(0) = p(1) = 1/2$\n",
    "- Tossing an unfair coin\n",
    "  - $p(0) = 0,3: p(1) = 0,7$\n",
    "- note that\n",
    "  - the probability $p \\in [0; 1]$\n",
    "  - it can also be expressed as percentage: $p \\in [0%; 100%]$\n",
    "  - the sum of all probabilities is equal to 1 \n"
   ]
  },
  {
   "cell_type": "markdown",
   "metadata": {
    "pycharm": {
     "is_executing": false
    }
   },
   "source": [
    "## Countable and Uncountable Outcomes\n",
    "\n",
    "- in some cases, the number of outcomes is finite\n",
    "- but some random variables have infinitely many outcomes\n",
    "- example: intervals\n",
    "  - what is the probability that a real number $A \\in [0;100]$ chosen at random, is in the interval $[10; 20]$?\n",
    "  - answer: it depends only on the lengths of the intervals\n",
    "  - $p = \\frac{20 - 10}{100 - 0} = 0.1 = 10% $\n",
    "  - The number of outcomes in infinite, but we are still able to compute probabilities\n",
    "- **probability density** - the probability of the result being in a tiny interval $dx$\n",
    "  - $dp = \\frac{dx}{b-a}$\n",
    "  - a, b - both ends of the interval [0;100] "
   ]
  },
  {
   "cell_type": "markdown",
   "metadata": {},
   "source": [
    "## Visualizing Random Variables\n",
    "\n",
    "- to visualize a random variable, we plot the value as a function of the trial number\n",
    "- we can generate random values using numpy\n",
    "\n",
    "```python\n",
    "def throw_dice():\n",
    "    return np.random.randint(1, 7) # from 1 to 6\n",
    "\n",
    "x = [throw_dice() for i in range(100)]\n",
    "plt.plot(x)\n",
    "plt.show() \n",
    "```\n",
    "- the function we got is not very informative\n",
    "  - better way: show the frequency of each output\n",
    "  - for each possible value of the random variable\n",
    "  - count how many times we got that value\n",
    "  - this is called a histogram \n",
    "  \n",
    "```python \n",
    "#Counting all values\n",
    "from collections import Counter \n",
    "\n",
    "counts = Counter(x) \n",
    "for number, count in counts.items(): \n",
    "    print(str(number) + \": \" + str(count)) \n",
    "    \n",
    "# Plotting a histogram \n",
    "plt.title(\"Throwing a dice: histogram\")\n",
    "plt.hist(x, bins = range(1, 8))\n",
    "plt.ylabel(\"Count\")\n",
    "plt.show() \n",
    "```"
   ]
  },
  {
   "cell_type": "markdown",
   "metadata": {},
   "source": [
    "## Combinatorics\n",
    "\n",
    "- combinatorics deals with counting objects and groups of objects\n",
    "- prerequisites\n",
    "  - finite (countable) number of outcomes\n",
    "  - all outcomes have equal probability\n",
    "- examples: gambling games\n",
    "  - roulette - all segments are equally likely\n",
    "  - card games - all card backs are the same\n",
    "- counting rules\n",
    "  - rules for computing a combinatorial probability\n",
    "  - show how many \"desired\" outcomes exist \n",
    "- notation\n",
    "  - all outcomes: n\n",
    "  - all experiment outcomes: k\n",
    "    - usually n is fixed and k depends on the experiment\n",
    "- types of samples\n",
    "  - with repetition / without repetition\n",
    "  - ordered / unordered\n",
    "- example: taking numbered balls out of a box \n",
    "  - take a ball, then return it to the box\n",
    "  - take a ball without returning it to the box (in this case k 5 n)\n",
    "  - take balls in a specific order (e.g. if they are numbered or colored)\n",
    "  - take balls in no specific order \n"
   ]
  },
  {
   "cell_type": "markdown",
   "metadata": {},
   "source": [
    "## Counting Rules\n",
    "\n",
    "- rule of sum\n",
    "  - m choices for one action, n choices for another action\n",
    "  - the two actions cannot be done at the same time\n",
    "  - there are m + n ways to choose one of these actions\n",
    "- example\n",
    "  - a woman will shop at one store in town today\n",
    "    - north part of town - mall, furniture, jewellery (3 stores)\n",
    "    - south part of town - clothing, shoes (2 stores)\n",
    "  - in how many ways she could visit one shop?\n",
    "  - answer: 3 + 2 = 5 ways\n",
    "- rule of product\n",
    "  - m choices for one action, n choices for another action\n",
    "  - the two actions are performed one after the other\n",
    "  - => there are m. n ways to do both actions\n",
    "- example\n",
    "  - you have to decide what to wear\n",
    "    - shirts - red, blue, purple (3 colors)\n",
    "    - pants - black, white (2 colors)\n",
    "  - in how many ways can you create one outfit (shirt and pants)?\n",
    "  - answer: 3.2 = 6 ways\n",
    "    - for each choice of shirt, you can choose one color of pants\n",
    "    - these are independent "
   ]
  },
  {
   "cell_type": "code",
   "execution_count": null,
   "metadata": {},
   "outputs": [],
   "source": []
  }
 ],
 "metadata": {
  "kernelspec": {
   "display_name": "Python 3",
   "language": "python",
   "name": "python3"
  },
  "language_info": {
   "codemirror_mode": {
    "name": "ipython",
    "version": 3
   },
   "file_extension": ".py",
   "mimetype": "text/x-python",
   "name": "python",
   "nbconvert_exporter": "python",
   "pygments_lexer": "ipython3",
   "version": "3.7.3"
  }
 },
 "nbformat": 4,
 "nbformat_minor": 1
}
