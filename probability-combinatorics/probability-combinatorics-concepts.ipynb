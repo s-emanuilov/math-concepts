{
 "cells": [
  {
   "cell_type": "markdown",
   "metadata": {
    "collapsed": true,
    "pycharm": {
     "is_executing": false
    }
   },
   "source": [
    "## Definitions\n",
    "\n",
    "- the scientific method relies on experiments\n",
    "  - initial conditions —> outcome\n",
    "  - usually we control the initial conditions to isolate the outcome\n",
    "- random event\n",
    "  - a set of outcomes of an experiment\n",
    "  - each outcome happens with a certain probability\n",
    "- random variable\n",
    "  - an expression whose value is the outcome of the experiment\n",
    "  - usually denoted with X, Y, Z... (capital letters)\n",
    "- it is not possible to predict the next outcome of a random event!\n",
    "  - but we can perform the same experiment many times (trials)\n",
    "  - the patterns and laws become more apparent with more trials "
   ]
  },
  {
   "cell_type": "markdown",
   "metadata": {},
   "source": [
    "## Frequency\n",
    "\n",
    "- Let's perform the same experiment many times\n",
    "  - under the same conditions\n",
    "  - ...such as throwing a dice\n",
    "- assign a frequency to each number i = [1,2,...,6] that the dice shows\n",
    "  - **m** - number of trials we got **i**, **n** - all trials\n",
    "  - $ f_i =\\frac{m_i}{n}$\n",
    "- as n increases, $f_i$ \"stabilizes\" around some number\n",
    "- we cannot perform infinitely many experiments\n",
    "  - but we can \"extend\" the trials mathematically\n",
    "  - $p(A) = \\lim_{n\\to\\infty}\\frac{m}{n}$\n",
    "- we call this the probability of outcome A\n",
    "  - statistical definition of probability"
   ]
  },
  {
   "cell_type": "markdown",
   "metadata": {},
   "source": [
    "## Examples\n",
    "\n",
    "- rolling a dice\n",
    "  - possible outcomes: {1,2,3,4,5,6)\n",
    "  - fair dice - all outcomes are equally likely\n",
    "  - $p(1) = p(2) = ... = p(6) = 1/6$\n",
    "- tossing a fair coin\n",
    "  - possible outcomes: {0 = heads,1 = tails}\n",
    "  - $p(0) = p(1) = 1/2$\n",
    "- Tossing an unfair coin\n",
    "  - $p(0) = 0,3: p(1) = 0,7$\n",
    "- note that\n",
    "  - the probability $p \\in [0; 1]$\n",
    "  - it can also be expressed as percentage: $p \\in [0%; 100%]$\n",
    "  - the sum of all probabilities is equal to 1 \n"
   ]
  },
  {
   "cell_type": "markdown",
   "metadata": {
    "pycharm": {
     "is_executing": false
    }
   },
   "source": [
    "## Countable and Uncountable Outcomes\n",
    "\n",
    "- in some cases, the number of outcomes is finite\n",
    "- but some random variables have infinitely many outcomes\n",
    "- example: intervals\n",
    "  - what is the probability that a real number $A \\in [0;100]$ chosen at random, is in the interval $[10; 20]$?\n",
    "  - answer: it depends only on the lengths of the intervals\n",
    "  - $p = \\frac{20 - 10}{100 - 0} = 0.1 = 10% $\n",
    "  - The number of outcomes in infinite, but we are still able to compute probabilities\n",
    "- **probability density** - the probability of the result being in a tiny interval $dx$\n",
    "  - $dp = \\frac{dx}{b-a}$\n",
    "  - a, b - both ends of the interval [0;100] "
   ]
  },
  {
   "cell_type": "markdown",
   "metadata": {},
   "source": [
    "## Visualizing Random Variables\n",
    "\n",
    "- to visualize a random variable, we plot the value as a function of the trial number\n",
    "- we can generate random values using numpy\n",
    "\n",
    "```python\n",
    "def throw_dice():\n",
    "    return np.random.randint(1, 7) # from 1 to 6\n",
    "\n",
    "x = [throw_dice() for i in range(100)]\n",
    "plt.plot(x)\n",
    "plt.show() \n",
    "```\n",
    "- the function we got is not very informative\n",
    "  - better way: show the frequency of each output\n",
    "  - for each possible value of the random variable\n",
    "  - count how many times we got that value\n",
    "  - this is called a histogram \n",
    "  \n",
    "```python \n",
    "#Counting all values\n",
    "from collections import Counter \n",
    "\n",
    "counts = Counter(x) \n",
    "for number, count in counts.items(): \n",
    "    print(str(number) + \": \" + str(count)) \n",
    "    \n",
    "# Plotting a histogram \n",
    "plt.title(\"Throwing a dice: histogram\")\n",
    "plt.hist(x, bins = range(1, 8))\n",
    "plt.ylabel(\"Count\")\n",
    "plt.show() \n",
    "```"
   ]
  },
  {
   "cell_type": "markdown",
   "metadata": {},
   "source": [
    "## Combinatorics\n",
    "\n",
    "- combinatorics deals with counting objects and groups of objects\n",
    "- prerequisites\n",
    "  - finite (countable) number of outcomes\n",
    "  - all outcomes have equal probability\n",
    "- examples: gambling games\n",
    "  - roulette - all segments are equally likely\n",
    "  - card games - all card backs are the same\n",
    "- counting rules\n",
    "  - rules for computing a combinatorial probability\n",
    "  - show how many \"desired\" outcomes exist \n",
    "- notation\n",
    "  - all outcomes: n\n",
    "  - all experiment outcomes: k\n",
    "    - usually n is fixed and k depends on the experiment\n",
    "- types of samples\n",
    "  - with repetition / without repetition\n",
    "  - ordered / unordered\n",
    "- example: taking numbered balls out of a box \n",
    "  - take a ball, then return it to the box\n",
    "  - take a ball without returning it to the box (in this case k 5 n)\n",
    "  - take balls in a specific order (e.g. if they are numbered or colored)\n",
    "  - take balls in no specific order \n"
   ]
  },
  {
   "cell_type": "markdown",
   "metadata": {},
   "source": [
    "## Counting Rules\n",
    "\n",
    "- rule of sum\n",
    "  - m choices for one action, n choices for another action\n",
    "  - the two actions cannot be done at the same time\n",
    "  - there are m + n ways to choose one of these actions\n",
    "- example\n",
    "  - a woman will shop at one store in town today\n",
    "    - north part of town - mall, furniture, jewellery (3 stores)\n",
    "    - south part of town - clothing, shoes (2 stores)\n",
    "  - in how many ways she could visit one shop?\n",
    "  - answer: 3 + 2 = 5 ways\n",
    "- rule of product\n",
    "  - m choices for one action, n choices for another action\n",
    "  - the two actions are performed one after the other\n",
    "  - => there are m. n ways to do both actions\n",
    "- example\n",
    "  - you have to decide what to wear\n",
    "    - shirts - red, blue, purple (3 colors)\n",
    "    - pants - black, white (2 colors)\n",
    "  - in how many ways can you create one outfit (shirt and pants)?\n",
    "  - answer: 3.2 = 6 ways\n",
    "    - for each choice of shirt, you can choose one color of pants\n",
    "    - these are independent "
   ]
  },
  {
   "cell_type": "markdown",
   "metadata": {
    "pycharm": {
     "is_executing": false
    }
   },
   "source": [
    "## Example: Three Coin Tosses \n",
    "\n",
    "- let's explore a graphic method of solving combinatorial problems called a tree diagram\n",
    "  - draw all intermediate results and the links between them\n",
    "  - a \"path\" through the tree represents an outcome\n",
    "  - useful when the outcomes are relatively few\n",
    "- what's the probability of getting 3 tails out of three coin tosses?\n",
    "  - answer: 1/8\n",
    "- what's the probability that both of these are true?\n",
    "  - the first outcome is a head\n",
    "  - the second outcome is a tail\n",
    "  - answer: 1/4 \n",
    "  \n",
    "![Three Coin Tossess](three-coin-tosses.jpg)"
   ]
  },
  {
   "cell_type": "markdown",
   "metadata": {},
   "source": [
    "## Example 2: Eating at a Restaurant\n",
    "- A restaurant offers\n",
    "  - 5 choices of appetizer\n",
    "  - 10 choices of main course\n",
    "  - 4 choices of dessert\n",
    "- You can choose one course, two different courses, or all three\n",
    "- How many possible meals can you make?\n",
    "  - One course: either appetizer, main course, or dessert: 5 + 10 + 4 = 19\n",
    "  - Two courses: total 110\n",
    "    - Appetizer + main course: 5.10 = 50\n",
    "    - Main course + dessert: 10.4 = 40\n",
    "    - Appetizer + dessert: 5.4 = 20\n",
    "  - Three courses: 5.10.4 = 200\n",
    "  - Total: 19 + 110 + 200 = 329 possible meals \n"
   ]
  },
  {
   "cell_type": "markdown",
   "metadata": {},
   "source": [
    "## Permutations\n",
    "\n",
    "- A permutation (without repetition) of a set A is any shuffling of all elements in A\n",
    "  - The order matters\n",
    "  - Notation: $P_n$\n",
    "- Example:\n",
    "  - If $A = \\{1,2,3,4\\}$, some permutations are $\\{1,2,3,4\\}; \\{1, 4,3,2\\}; \\{2,3,4,1\\}$\n",
    "- Number of permutations of n elements\n",
    "  - $n$ choices for the first element\n",
    "  - $n — 1$ for the second one\n",
    "    - Because the first one is already taken\n",
    "  - $n — 2$ for the third one\n",
    "  - 1 for the last one\n",
    "  - Total: $n! = 1.2.3...n$ "
   ]
  },
  {
   "cell_type": "markdown",
   "metadata": {},
   "source": [
    "## Variations\n",
    "\n",
    "- a variation is an ordered subset of k elements from A\n",
    "- notation: $V_n^k$\n",
    "  - we read this as \"Variations of n elements, $k^{th}$ class\"\n",
    "- example: • If $A = \\{1,2,3,4\\}, k = 2$, some variations are $\\{1,2\\}; \\{4,3\\}; \\{3,1\\}; \\{4,1\\}$\n",
    "- number of variations\n",
    "  - same technique as in permutations\n",
    "  - $n$ choices for the first element\n",
    "  - $n — 1$ for the second one\n",
    "  - $(n — k + 1)$ for the last one\n",
    "  - $V_n^k = n.(n-1)...(n-k+1) = \\frac{n!}{(n-k)!}$"
   ]
  },
  {
   "cell_type": "markdown",
   "metadata": {},
   "source": [
    "## Combinations \n",
    "\n",
    "- a combination is an unordered subset of k elements from A\n",
    "- notation: $C_n^k$\n",
    "- example:\n",
    "  - if $A = \\{1,2,3, 4\\}, k = 2$, some combinations are $\\{1,2\\}; \\{3,4\\}; \\{3,1\\}; \\{4,1\\}$\n",
    "- number of combinations of n elements\n",
    "  - using a similar (but more involved) logic, we can prove that:\n",
    "  - $C_n^k = \\frac{n!}{(n-k)!k!}$\n",
    "  - this is also known as \"n choose k\" (we choose k elements from n)\n"
   ]
  },
  {
   "cell_type": "markdown",
   "metadata": {},
   "source": [
    "## Example Usages\n",
    "\n",
    "- shuffle a deck of cards\n",
    "  - the same as generating a random permutation of 52 (or 54) elements\n",
    "- crack a password\n",
    "  - how many 3-letter passwords are there (26 + 26 letters total)? $V_{52}^3$\n",
    "- generate all anagrams of a given word\n",
    "  - anagram: a different word using the same letters\n",
    "    - example: emits -> items, mites, smite, times\n",
    "  - method:\n",
    "    - generate all permutations of the letters\n",
    "    - for each permutation, find whether it's a valid word (check with a dictionary)\n",
    "    - return all valid words\n",
    "- make a fruit salad\n",
    "  - generate combinations of fruits (the order doesn't matter)\n",
    "  - possibly, combinations with repetition (if I love bananas, I'll take a double serving) \n"
   ]
  },
  {
   "cell_type": "markdown",
   "metadata": {},
   "source": [
    "## Probability Algebra\n",
    "## Events\n",
    "\n",
    "- event - a result from the experiment\n",
    "- elementary event\n",
    "  - one particular outcome\n",
    "  - example: outcomes of two coin flips: $\\{HH\\}, \\{HT\\}, \\{TH\\}, \\{TT\\}$\n",
    "- compound event\n",
    "  - consists of many elementary events\n",
    "  - example: getting an odd number from a dice\n",
    "    - consists of the elementary events 1,3,5\n",
    "- event space - the set II of all possible events\n",
    "  - the algebra of events is the same as the algebra of sets\n"
   ]
  },
  {
   "cell_type": "markdown",
   "metadata": {},
   "source": [
    "## Algebra of Events\n",
    "\n",
    "- if event A happens with event B, A is a consequence of B: A $\\subset$ B\n",
    "- if A $\\subset$ B and B $\\subset$ A, then A = B\n",
    "- complementary event: $\\overline{A}$ happens iff A does not happen\n",
    "- impossible event: contains no elementary events: $\\varnothing$\n",
    "- product of events: happens iff A and B happen: C=A $\\cap$ B\n",
    "  - incompatible events: A $\\cap$ B = 0\n",
    "- sum of events: happens if A, B or both happen: C=A $\\cup$ B\n",
    "  - if A and B are incompatible, C = A + B\n",
    "- observe that\n",
    "  - logical relations are the same as set operations (and event operations)\n",
    "    - AND: intersection\n",
    "    - OR: union\n",
    "    - NOT: complement \n"
   ]
  },
  {
   "cell_type": "markdown",
   "metadata": {},
   "source": [
    "## Conditional Probability\n",
    "\n",
    "- additional information about the experiment outcome can change the probabilities \n",
    "- example:\n",
    "  - \"Hidden dice\": someone rolls a dice and doesn't tell us the result\n",
    "  - probabilities: 1/6 for every number\n",
    "    - these are also called \"a priori\" probabilities\n",
    "  - now we know the number is even\n",
    "    - this changes all outcome probabilities: $\\{ 1 \\rightarrow 0, 2 \\rightarrow \\frac{1}{3}, 3 \\rightarrow 0, 4 \\rightarrow \\frac{1}{3}, 5 \\rightarrow 0, 6 \\rightarrow \\frac{1}{3}\\}$\n",
    "    - these are called \"a posteriori\" probabilities\n",
    "- conditional probability\n",
    "  - probability of event A given event B\n",
    "  - math notation: $P(A|B)$ \n",
    "- more formally\n",
    "  - if we know B happened, the probability $P(A|B)$  corresponds to the part of the set B which is shared between A and B:\n",
    "    - $P(A|B) = \\frac{P(A \\cap B)}{P(B)}$ \n",
    "  - in our example\n",
    "    - event A: number on a fair dice\n",
    "      - $A = \\{1,2,3,4,5,6\\}$\n",
    "    - event B: the number is even\n",
    "      - $B = \\{2,4,6\\}$\n",
    "    - $A \\cap B$ = $\\{2,4,6\\}$\n",
    "    - $P(1|even) = 0; P(2|even) = \\frac{1}{3};...$ "
   ]
  },
  {
   "cell_type": "markdown",
   "metadata": {},
   "source": [
    "## Event Independence \n",
    "\n",
    "- sometimes, an event doesn't influence another event\n",
    "- they are called independent events\n",
    "  - if two events are independent, knowledge of one does not tell us anything about the other\n",
    "- example\n",
    "  - 99% of all people who died of cancer, have consumed pickles\n",
    "  - 99,8% of all soldiers have eaten pickles\n",
    "- https://www.dhmo.org/facts.html\n"
   ]
  },
  {
   "cell_type": "markdown",
   "metadata": {},
   "source": [
    "## Bayes' Theorem\n",
    "\n",
    "- the theorem tells us how to update the probabilities when we know some evidence\n",
    "- example usage: spam detection\n",
    "  - consider each word $w$; compute number of emails which contain it\n",
    "  - $m$ spam emails containing $w$; $n$ total emails containing $w$\n",
    "  - \"Spamminess\" of word: frequency $P(word|spam)$ = $m/n$\n",
    "  - \"Spernminess\" of email: $P(spam | all words)$ \n"
   ]
  },
  {
   "cell_type": "markdown",
   "metadata": {},
   "source": [
    "## Example: Monty Hall Problem\n",
    "\n",
    "- in a game show, you have to choose between three doors\n",
    "- behind one is a car, behind the other two - goats\n",
    "- you pick a door\n",
    "- the host reveals one of the two other doors - it's always a goat\n",
    "- you have the option to keep your choice or switch doors\n",
    "  - which is the winning strategy?\n",
    "- it turns out that the winning strategy is to always switch\n",
    "  - this gives you 2/3 chance of winning the car "
   ]
  },
  {
   "cell_type": "markdown",
   "metadata": {},
   "source": [
    "## Statistical Distributions\n",
    "\n",
    "## Distributions\n",
    "\n",
    "- we saw that random variables can be treated as functions\n",
    "  - but they look funky\n",
    "    - don't have derivatives at most points\n",
    "    - difficult to work with\n",
    "- we can instead take functions of these functions\n",
    "  - like we counted each outcome\n",
    "    - instead of graphing the real function, we made a histogram of counts\n",
    "    - this gives us a much better idea what the random variable looks like\n",
    "- these functions of functions are called distributions\n",
    "  - in our example, we looked at the frequency distribution "
   ]
  },
  {
   "cell_type": "markdown",
   "metadata": {},
   "source": [
    "## Discrete Distribution \n",
    "\n",
    "- probability distribution function\n",
    "- a table which maps each outcome of a random variable to a probability: $p_x(x_i) = P(X = x_I)$\n",
    "- also called probability mass function (pmf)\n",
    "- example: two die rolls\n",
    "  - random variable: sum of numbers\n",
    "  - outcomes: $\\{ 2, 3, ..., 12\\}$\n",
    "  - probabilities:\n",
    "    - $P(2) = P(\\{ 1, 1 \\}) = 1/36$\n",
    "    - $P(3) = P(\\{ 1, 2 \\}) + P(\\{ 2, 1 \\}) = 2/36$\n",
    "- cumulative distribution function\n",
    "  - a table which maps each outcome of a random variable to the probability of its value being less than or equal to a given number $F_x(x_i) = P(X \\leq x_i)$\n",
    "  - also called cumulative mass function (cmf) or cumulative density function (cdf)\n",
    "  - every cmf is non-decreasing\n",
    "    - usually starts at 0\n",
    "    - always ends at 1 "
   ]
  },
  {
   "cell_type": "markdown",
   "metadata": {},
   "source": [
    "## Continuous Distribution\n",
    "\n",
    "- cumulative density function (cdf)\n",
    "  - defined in the same way as the cmf: $F_x(x) = P(X \\leq x)$\n",
    "- probability density function\n",
    "  - derivative of the cdf: \n",
    "  - $f(x) = \\frac{dF(x)}{dx} $\n",
    "  - meaning: the probability of the function taking values in an infinitely small interval around $x$\n",
    "  - the probability of observing any single value a is exactly 0\n",
    "  - the number of outcomes is $\\infty$\n",
    "  - $p(a) = [\\frac{values of a}{\\infty}] = 0$"
   ]
  },
  {
   "cell_type": "markdown",
   "metadata": {},
   "source": [
    "## Common Distributions\n",
    "\n",
    "## Bernoulli and Uniform Distributions\n",
    "\n",
    "- Bernoulli distribution\n",
    "  - the simplest distribution of a random variable\n",
    "    - value 0 with probability p\n",
    "    - value 1 with probability q = 1 - p\n",
    "  - the two events are incompatible (mutually exclusive)\n",
    "  - example: coin flip (fair coin: p = 0,5)\n",
    "- uniform distribution\n",
    "  - all values in some range [a; b] are equally likely\n",
    "  - example: number on a fair dice\n",
    "  - also generalizes to continuous variables "
   ]
  },
  {
   "cell_type": "markdown",
   "metadata": {},
   "source": [
    "## Binomial Distribution\n",
    "\n",
    "- $n$ Bernoulli trials\n",
    "- each trial has a \"success\" probability $p$\n",
    "- $n = 1 \\Rightarrow$ Bernoulli distribution\n",
    "- discrete distribution"
   ]
  },
  {
   "cell_type": "markdown",
   "metadata": {},
   "source": [
    "## Normal Distribution\n",
    "\n",
    "- origin: random errors in measurements\n",
    "  - when we perform an experiment, there are many sources of error\n",
    "- example: throwing a dart at the origin of the (x, y)-plane\n",
    "  - we aim at the origin\n",
    "  - random errors prevent us from hitting it every time\n",
    "  - sources of error\n",
    "    - hand shaking, air currents, distribution of mass inside the arrow, different viewing angles... and many more, some of which we can't even know \n",
    "- assumptions\n",
    "  - the errors don't depend on the orientation of the coordinate system\n",
    "  - the errors in $x$ and $y$ directions are independent: one doesn't influence the other\n",
    "  - large errors are less likely than small errors\n",
    "- we can derive the distribution of errors\n",
    "  - distances from the origin\n",
    "- Normal (Gaussian) distribution\n",
    "  - cdf: doesn't exist as a function, we can integrate numerically\n",
    "- Standard normal distribution: $\\mu = 0, \\sigma = 1$"
   ]
  },
  {
   "cell_type": "markdown",
   "metadata": {},
   "source": [
    "## Central Limit Theorem\n",
    "\n",
    "- the sum of many independent random variables tends to a normal distribution even if the original random variables are not normally distributed\n",
    "  - in other words: The sampling distribution of the mean of any independent random variable will be normal or nearly normal if the sample is large enough\n",
    "  - large enough?\n",
    "    - $n \\in [30; 40]$ for most statisticians, but more is better\n",
    "- example: customers in a shop\n",
    "  - every customer has their own behavior, reasons, money, etc.\n",
    "    - we can treat them as random variables with unknown distributions\n",
    "  - the shop's earnings are approximately normally distributed\n",
    "    - if there are many customers\n",
    "  - we don't even care about the many sources of error: they will produce a normal distribution anyway "
   ]
  }
 ],
 "metadata": {
  "kernelspec": {
   "display_name": "Python 3",
   "language": "python",
   "name": "python3"
  },
  "language_info": {
   "codemirror_mode": {
    "name": "ipython",
    "version": 3
   },
   "file_extension": ".py",
   "mimetype": "text/x-python",
   "name": "python",
   "nbconvert_exporter": "python",
   "pygments_lexer": "ipython3",
   "version": "3.7.3"
  }
 },
 "nbformat": 4,
 "nbformat_minor": 1
}
