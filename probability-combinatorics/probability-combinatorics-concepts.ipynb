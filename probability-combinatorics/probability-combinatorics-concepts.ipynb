{
 "cells": [
  {
   "cell_type": "markdown",
   "metadata": {
    "collapsed": true,
    "pycharm": {
     "is_executing": false
    }
   },
   "source": [
    "## Definitions\n",
    "\n",
    "- the scientific method relies on experiments\n",
    "  - initial conditions —> outcome\n",
    "  - usually we control the initial conditions to isolate the outcome\n",
    "- random event\n",
    "  - a set of outcomes of an experiment\n",
    "  - each outcome happens with a certain probability\n",
    "- random variable\n",
    "  - an expression whose value is the outcome of the experiment\n",
    "  - usually denoted with X, Y, Z... (capital letters)\n",
    "- it is not possible to predict the next outcome of a random event!\n",
    "  - but we can perform the same experiment many times (trials)\n",
    "  - the patterns and laws become more apparent with more trials "
   ]
  },
  {
   "cell_type": "markdown",
   "metadata": {},
   "source": [
    "## Frequency\n",
    "\n",
    "- Let's perform the same experiment many times\n",
    "  - under the same conditions\n",
    "  - ...such as throwing a dice\n",
    "- assign a frequency to each number i = [1,2,...,6] that the dice shows\n",
    "  - **m** - number of trials we got **i**, **n** - all trials\n",
    "  - $ f_i =\\frac{m_i}{n}$\n",
    "- as n increases, $f_i$ \"stabilizes\" around some number\n",
    "- we cannot perform infinitely many experiments\n",
    "  - but we can \"extend\" the trials mathematically\n",
    "  - $p(A) = \\lim_{n\\to\\infty}\\frac{m}{n}$\n",
    "- we call this the probability of outcome A\n",
    "  - statistical definition of probability"
   ]
  },
  {
   "cell_type": "markdown",
   "metadata": {},
   "source": [
    "## Examples\n",
    "\n",
    "- rolling a dice\n",
    "  - possible outcomes: {1,2,3,4,5,6)\n",
    "  - fair dice - all outcomes are equally likely\n",
    "  - $p(1) = p(2) = ... = p(6) = 1/6$\n",
    "- tossing a fair coin\n",
    "  - possible outcomes: {0 = heads,1 = tails}\n",
    "  - $p(0) = p(1) = 1/2$\n",
    "- Tossing an unfair coin\n",
    "  - $p(0) = 0,3: p(1) = 0,7$\n",
    "- note that\n",
    "  - the probability $p \\in [0; 1]$\n",
    "  - it can also be expressed as percentage: $p \\in [0%; 100%]$\n",
    "  - the sum of all probabilities is equal to 1 \n"
   ]
  },
  {
   "cell_type": "markdown",
   "metadata": {
    "pycharm": {
     "is_executing": false
    }
   },
   "source": [
    "## Countable and Uncountable Outcomes\n",
    "\n",
    "- in some cases, the number of outcomes is finite\n",
    "- but some random variables have infinitely many outcomes\n",
    "- example: intervals\n",
    "  - what is the probability that a real number $A \\in [0;100]$ chosen at random, is in the interval $[10; 20]$?\n",
    "  - answer: it depends only on the lengths of the intervals\n",
    "  - $p = \\frac{20 - 10}{100 - 0} = 0.1 = 10% $\n",
    "  - The number of outcomes in infinite, but we are still able to compute probabilities\n",
    "- **probability density** - the probability of the result being in a tiny interval $dx$\n",
    "  - $dp = \\frac{dx}{b-a}$\n",
    "  - a, b - both ends of the interval [0;100] "
   ]
  },
  {
   "cell_type": "markdown",
   "metadata": {},
   "source": [
    "## Visualizing Random Variables\n",
    "\n",
    "- to visualize a random variable, we plot the value as a function of the trial number\n",
    "- we can generate random values using numpy\n",
    "\n",
    "```python\n",
    "def throw_dice():\n",
    "    return np.random.randint(1, 7) # from 1 to 6\n",
    "\n",
    "x = [throw_dice() for i in range(100)]\n",
    "plt.plot(x)\n",
    "plt.show() \n",
    "```"
   ]
  },
  {
   "cell_type": "code",
   "execution_count": null,
   "metadata": {},
   "outputs": [],
   "source": [
    ""
   ]
  }
 ],
 "metadata": {
  "kernelspec": {
   "display_name": "Python 3",
   "language": "python",
   "name": "python3"
  },
  "language_info": {
   "codemirror_mode": {
    "name": "ipython",
    "version": 3.0
   },
   "file_extension": ".py",
   "mimetype": "text/x-python",
   "name": "python",
   "nbconvert_exporter": "python",
   "pygments_lexer": "ipython3",
   "version": "3.7.3"
  }
 },
 "nbformat": 4,
 "nbformat_minor": 0
}