{
 "cells": [
  {
   "cell_type": "markdown",
   "metadata": {},
   "source": [
    "## Limit\n",
    "\n",
    "- natural definition \n",
    "  - given a function $f(x)$, \"nudge\" the input arround a given value $a$\n",
    "    - as a result, the function value changes\n",
    "  - limit of $f(x)$ at the point $x = a:$ what $f$ approches as $x$ approches $a$\n",
    "- notation: $\\lim_{x\\to a} f(x) = L$\n",
    "- mathematical definition\n",
    "  - give us a nice way to define \"approching a value\"\n",
    "  - for any possitive $\\delta$ and $\\varepsilon$\n",
    "    - if $0 < |x - a| < \\delta $\n",
    "    - then $|f(x) - L| < \\varepsilon$\n",
    "  - also called \"epsilon-delta\" definition\n",
    "  - what are these numbers? Arbitrary they only need to be positive\n",
    "    - it's very useful to make the really small"
   ]
  },
  {
   "cell_type": "markdown",
   "metadata": {},
   "source": [
    "## Limits in Python\n",
    "\n",
    "- to find a limit of a function at a point, just apply the definition\n",
    "  - generate several values of $x$ arround $a$\n",
    "    - don't forget to include positive and negative \"nudges\"\n",
    "  - print the function values at those points\n",
    "  \n",
    "```python\n",
    "def get_limit(f, a):\n",
    "    epsilon = np.array([\n",
    "    10 ** p\n",
    "        for p in np.arange(0, -11, -1, dtype=float)])\n",
    "    \n",
    "    x = np.append(a - epsilon, (a + epsilon[::-1]))\n",
    "    y = f(x)\n",
    "    \n",
    "    return y\n",
    "\n",
    "print get_limit(lambda x: x ** 2, 3)\n",
    "print get_limit(lambda x: x ** 2 + 3 * x, 2)\n",
    "print get_limit(lambda x: np.sin(x), 0)\n",
    "```"
   ]
  },
  {
   "cell_type": "markdown",
   "metadata": {},
   "source": [
    "## More Limits\n",
    "\n",
    "- some functions dont have values on certain points\n",
    "  - but they are defined \"arround\" this points\n",
    "  - the limit exist even though the function value doesn't  \n",
    "  $\\lim_{x\\to 0} \\frac{sin(x)}{x} = 1 $\n",
    "- some limits can be infinite: $\\lim_{x\\to\\infty} x^2 = \\infty$\n",
    "- some functions \"jump\"\n",
    "  - the limit \"from the left\" and \"from the right\" are different\n",
    "    - therefore the limit is not defined\n",
    "    - we say that the function is not continuous at that point\n",
    "- example: \n",
    "  - in this case $f(0) = 0$ but the limit does not exist  \n",
    "  $f(x) = \\begin{cases} -1, x<0 \\\\ 0, x=0\\\\1, x=1\\end{cases}$  \n",
    "  $\\lim_{x\\to 0^-} f(x) = -1$  \n",
    "  $\\lim_{x\\to 0^+} f(x) = 1$\n",
    "  \n",
    "  ![Limits](limits.png)\n",
    "  \n",
    "  More information: http://xaktly.com/MathLimits.html"
   ]
  },
  {
   "cell_type": "markdown",
   "metadata": {},
   "source": [
    "## Calculus Motivation\n",
    "\n",
    "- say you want to complete an area of a circle\n",
    "  - it is $\\pi R^2$ but why?\n",
    "  - remember how you can divide a shape into simpler shapes and sum their areas to get the total area\n",
    "    - one way: cut it like cake\n",
    "    - another way: concentrics rings\n",
    "  - if you \"cut\" and \"straighten\" each ring, you will get a trapezoid\n",
    "    - if your ring is very, very thin - it will actually close to rectangle\n",
    "    ![Trapezoid in Calculus](trapezoid-calculus.png)\n",
    "    - set the difference to be very, very small: $r_3 - r_2 \\rightarrow 0$\n",
    "    - and you get calculus\n",
    "- even in this simple example, there are the notion about derivatives and integrals, even the funamental theorem of calculus."
   ]
  },
  {
   "cell_type": "markdown",
   "metadata": {},
   "source": [
    "## Derivatives and velocity\n",
    "\n",
    "- we all know that $v = \\frac{s}{t}$\n",
    "  - but it is almost useless\n",
    "  - traveling is not done at a uniform velocity, it's not a fixed number but a function of a time $v = v(t)$\n",
    "- instantaneous velocity: $v(t_0) = v(t)|\\small{t=t_0}$\n",
    "- computing instantaneous velocity from travelled distance\n",
    "  - say, $s(t)=t^2$, say that we start at $t=0$s and finish at $t=5$s\n",
    "    - final distance $s(5) = 5^2 = 25$m\n",
    "  - avarage speed: $\\frac{25}{5} = 5\\frac{m}{s}$\n",
    "  - but we cover different distance for the same time:\n",
    "    - from $0 \\leq t \\leq 1: s(1) - s(0) = 1 - 0 = 1m$ \n",
    "    - from $3 \\leq t \\leq 4: s(4) - s(3) = 16 - 9 = 7m$ \n",
    "    - from $4 \\leq t \\leq 5: s(5) - s(4) = 25 - 16 = 9m$ \n",
    "    - and neither of this is even close to the avarage speed\n",
    "- let's calculate the instantaneous velocity\n",
    "  - fix time at $t = 3$\n",
    "  - but how can we move if the time is fixed?\n",
    "- let's apply the idea of the limits\n",
    "  - nudge time a tiny bit and see how the distance changes\n",
    "    - $t=3.01: v \\approx \\frac{s(3.01) - s(3)}{3.01 - 3} = \\frac{3.01^2 - 3^2}{0.01} = 6.01 \\frac{m}{s}$\n",
    "    - $t=3.00001: v \\approx \\frac{s(3.00001) - s(3)}{3.00001 - 3} = \\frac{3.00001^2 - 3^2}{0.00001} = 6.0001 \\frac{m}{s}$\n",
    "  - more generally: if wee nudge the time from $t = t_0$ to $t = t_0 + \\Delta$, we will get an approximation of the instantaneous velocity:  \n",
    "  $v \\approx \\frac{s(t + \\Delta t) - s(t)}{t + \\Delta t - t} = \\frac{s(t + \\Delta t) - s(t)}{\\Delta t}$\n",
    "  - this approximation will get increasingly **more accurate** if $\\Delta t$ becomes **smaller**\n",
    "  - smaller  $\\Delta t \\Rightarrow $ better approximation of $v$\n",
    "- how does the velocity behave as $\\Delta t \\rightarrow 0$?\n",
    "  - note that we can not set $\\Delta t = 0$, this will freeze time\n",
    "  - math notation, if $\\Delta t \\rightarrow 0$ we write it as $dt$:\n",
    "  $vt = \\lim_{dt\\to 0} = \\frac{s(t + dt) - s(t)}{dt}$\n",
    "- **the rate of change of a function $f(x)$ as its argument changes is called the first derivative of $f(x)$**\n",
    "- geometrically, the derivative at a give point is equal to the slope of the tangent line to the function of that point\n",
    "  "
   ]
  },
  {
   "cell_type": "markdown",
   "metadata": {
    "pycharm": {
     "is_executing": false
    }
   },
   "source": [
    "## Calulating Derivatives\n",
    "\n",
    "- note that we have two dimensions:\n",
    "  - derivative of $f(x)$ at a fixed point x (e.g. x=5), this is a number\n",
    "  - derivative of $f(x)$ at any point, this is another function\n",
    "- calculate the derivative of $3x^2 +5x -8$ at $x=3$\n",
    "  - we are doing a numerical approximation\n",
    "  - we can't work with infinitesmally small $h$ but we can get away with something quite small\n",
    "  ```python\n",
    "    def calculate_derivatives(f, a, h = 1e-7):\n",
    "        return (f(a+h) - f(a)) / h\n",
    "    \n",
    "    print(calculate_derivatives(lambda x: 3 * x**2 + 5*x - 8, 3)) \n",
    "    #23.00000026878024\n",
    "  ```\n",
    "  - we can do this **analyticaly** - a fancy term for \"with pen and paper\" \n",
    "  \n",
    "  [Table Derivatives](http://www.math.com/tables/derivatives/tableof.htm)"
   ]
  },
  {
   "cell_type": "markdown",
   "metadata": {
    "pycharm": {
     "is_executing": false
    }
   },
   "source": [
    "## Properties of derivatives \n",
    "\n",
    "- the derivative of constant (f(x) = c) is 0\n",
    "- derivatives are linear:\n",
    "  - $(f \\pm g)\\prime = f\\prime \\pm g\\prime$\n",
    "  - $(\\lambda f)\\prime = \\lambda\\prime f\\prime$\n",
    "- product rule\n",
    "  - $(f.g)\\prime = f\\prime.g + f.g\\prime$\n",
    "  - $(\\frac{f}{g})\\prime = \\frac{f\\prime.g + f.g\\prime}{g^2}$\n",
    "- derivative of function composition\n",
    "  - also called a chain rule:\n",
    "    - $(f(g(x))\\prime = f\\prime(g(x)).g\\prime(x)$\n",
    "  - looks better in the other notation:\n",
    "    - $\\frac{df}{dx} = \\frac{df}{dg} . \\frac{dg}{dx}$\n",
    "- we can proove this using the geometric intuition or the definition "
   ]
  },
  {
   "cell_type": "markdown",
   "metadata": {},
   "source": [
    "## Higher Order Derivatives\n",
    "\n",
    "- the second derivative of a function is the first derivative of its first derivative\n",
    "  - interpretation: \"rate of change of the rate of change\"\n",
    "  - ... a.k.a. acceleration\n",
    "  - notation\n",
    "    - $f\\prime\\prime(x) = (f\\prime(x))\\prime, \\frac{d^2 f}{d x^2} = \\frac{d}{dx} (\\frac{df}{dx})$\n",
    "- this can be applied arbitrary many times\n",
    "  - e.g. rate of change of acceleration: third derivative\n",
    "  - third, fourth, etc. derivatives; n-th derivative"
   ]
  },
  {
   "cell_type": "markdown",
   "metadata": {},
   "source": [
    "## Function Exrema\n",
    "\n",
    "- even if we don't know the function, its derivatives give us useful information\n",
    "- consider the drawn function\n",
    "  - the smallest value of $f(x)$ is called a global minimum \n",
    "  - conversely, largest value: global maximum\n",
    "- these are collectively called extrema (plural of extremum)\n",
    "- smallest / largest value of f (x) in a tiny range: local min / max\n",
    "- more formally, we say $f(x)$ has a maximum at, say, $x = 5$ if the function value $f(5)$ is bigger than the function values immediately to the left and right\n",
    "  - the complete definition involves limits\n",
    "  - the points x of min / max (e.g. x = 5) are called critical points\n",
    "  \n",
    "![Function Extrema](function-extrema.png)  \n",
    "\n",
    "- notice how the tangent line behaves\n",
    "  - at max / min, $f\\prime = 0$\n",
    "  - around max / min, $f\\prime$ changes its sign\n",
    "- also notice that if $f\\prime(x) > 0$ in a given interval, the function increases\n",
    "  - if $f\\prime(x)<0$, the function decreases\n",
    "- therefore, if f behaves like this:\n",
    "  - increasing; stop; decreasing => local maximum\n",
    "  - decreasing; stop; increasing => local minimum \n",
    "\n",
    "![Tangent Lines Functions](tangents-lines-functions.png)\n",
    "  \n",
    "- the second derivative gives us more information about whether the function is \"concave up\" or \"concave down\"\n",
    "  - more specifically, its sign\n",
    "  - these are sometimes called convex and concave functions \n",
    "  \n",
    "![Convex and Concave Functions](convex-concave-functions.png)"
   ]
  },
  {
   "cell_type": "markdown",
   "metadata": {},
   "source": [
    "## Integrals\n",
    "### Area under a Function\n",
    "\n",
    "- look back to the motivating example\n",
    "- how can we find the area S \"under\" a curve given by a function?\n",
    "  - what is the shaded area (S < 0 if I < 0)?\n",
    "- approach: approximate and zoom in\n",
    "- divide the x-axis into equal intervals $\\Delta x$\n",
    "- approximate the area with trapezoids\n",
    "  - $S = \\sum\\limits_i{S\\tiny{i}} $\n",
    "- if the intervals in $x$ are really small, the trapezoids will look like rectangles\n",
    "  - ${S\\tiny{i}} = f(x\\tiny{i}\\normalsize)\\Delta x$\n",
    "- smaller $\\Delta x$ => better approximation \n",
    "![Integral](integral.png)\n"
   ]
  },
  {
   "cell_type": "markdown",
   "metadata": {},
   "source": [
    "## Integral of a function\n",
    "\n",
    "- at the limit $\\Delta x \\rightarrow 0$, so we write $dx$\n",
    "- indefinite integral: the same as definite, without the end points\n",
    "  - like derivatives, the definite integral is a number\n",
    "  - the indefinite integral is a function of x\n",
    "- calculating integrals\n",
    "  - analytically - very difficult (unlike derivatives)\n",
    "  - numerically - apply the trapezoidal rule\n",
    "    - use a small number $dx$, like before "
   ]
  },
  {
   "cell_type": "markdown",
   "metadata": {},
   "source": [
    "## Antiderivatives\n",
    "\n",
    "- the antiderivative $F(x)$ of a function $f(x)$ is such a function that $F\\prime(x) = f(x)$\n",
    "  - it's also called the primitive function of $f(x)$\n",
    "  - note that since the derivative of a constant is zero, there are many antiderivatives: $F\\prime(x) + C = f(x)$\n",
    "  - therefore, we can know the antiderivative only up to an arbitrary additive constant\n",
    "- if we do definite integrals, the + C does not apply - we know the area exactly\n",
    "- if we do indefinite integrals, we must always add the constant "
   ]
  },
  {
   "cell_type": "markdown",
   "metadata": {},
   "source": [
    "## Fundamental Theorem of Calculus\n",
    "\n",
    "- the indefinite integral of a function is related to its antiderivative and can be reversed via differentiation\n",
    "- the definite integral of a function can be computed using one of its infinitely many antiderivatives \n",
    "- simply, differentiation and integration are inverse functions\n",
    "- proof: [Khan Academy](https://www.khanacademy.org/math/ap-calculus-ab/ab-integration-new/ab-integration-optional/v/proof-of-fundamental-theorem-of-calculus)\n",
    "- intuition\n",
    "  - The sum of Infinitesimal changes In a quantity over time adds up to the net change in quantity\n",
    "  - Think about distance and velocity again"
   ]
  },
  {
   "cell_type": "markdown",
   "metadata": {},
   "source": [
    "## Generalization\n",
    "\n",
    "- the notions of derivatives and integrals generalize to more dimensions\n",
    "- derivatives: take the derivative w.r.t. one variable, treat the other variables as \"parameters\" -> **partial derivatives**\n",
    "![Partial Derivatives](partial-derivatives.png)\n",
    "- integrals: 1D intervals [a;b] can become curves or planes\n",
    "  - apply the zooming in technique\n",
    "![Multiple Integral](multiple-integral.png)  "
   ]
  },
  {
   "cell_type": "markdown",
   "metadata": {},
   "source": [
    "## Gradient Descent\n",
    "\n",
    "- optimization method\n",
    "  - used for finding local extrema\n",
    "- gradient: grad(f) or $\\nabla f$\n",
    "  - a combination of vector and derivative\n",
    "    - multi-dimensional derivative\n",
    "    - a vector whose components are the partial derivatives w.r.t. every variable\n",
    "    - shows where the steepest rise in slope is\n",
    "- if we follow the gradient, well arrive at a maximum\n",
    "  - conversely, negative gradient takes us to a minimum\n",
    "- iterative procedure\n",
    "  - continue to apply until close enough\n",
    "- not guaranteed to find global extrema\n",
    "  - may get \"stuck\" in a local extremum "
   ]
  },
  {
   "cell_type": "markdown",
   "metadata": {},
   "source": [
    "## Example Gradient Descent\n",
    "\n",
    "- find a local minimum of a function: $ f(x) = x^4 - 3x^3 + 2$\n",
    "- start at $x=6$\n",
    "\n",
    "```python\n",
    "x_old = 0\n",
    "x_new = 6\n",
    "step_size = 0.01\n",
    "precision = 0.00001\n",
    "\n",
    "def df(x):\n",
    "    # f'(x^4 - x^3 + 2) = 4x^3 - 9x^2\n",
    "    y = 4 * x ** 3 - 9 * x **2\n",
    "    return y\n",
    "\n",
    "while abs(x_new - x_old) > precision:\n",
    "    x_old = x_new\n",
    "    x_new += - step_size * df(x_old)\n",
    "    \n",
    "print(\"The local minimum occurs at \", x_new)\n",
    "```"
   ]
  }
 ],
 "metadata": {
  "kernelspec": {
   "display_name": "Python 3",
   "language": "python",
   "name": "python3"
  },
  "language_info": {
   "codemirror_mode": {
    "name": "ipython",
    "version": 3
   },
   "file_extension": ".py",
   "mimetype": "text/x-python",
   "name": "python",
   "nbconvert_exporter": "python",
   "pygments_lexer": "ipython3",
   "version": "3.7.3"
  }
 },
 "nbformat": 4,
 "nbformat_minor": 2
}
