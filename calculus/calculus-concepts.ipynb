{
 "cells": [
  {
   "cell_type": "markdown",
   "metadata": {},
   "source": [
    "## Limit\n",
    "\n",
    "- natural definition \n",
    "  - given a function $f(x)$, \"nudge\" the input arround a given value $a$\n",
    "    - as a result, the function value changes\n",
    "  - limit of $f(x)$ at the point $x = a:$ what $f$ approches as $x$ approches $a$\n",
    "- notation: $\\lim_{x\\to a} f(x) = L$\n",
    "- mathematical definition\n",
    "  - give us a nice way to define \"approching a value\"\n",
    "  - for any possitive $\\delta$ and $\\varepsilon$\n",
    "    - if $0 < |x - a| < \\delta $\n",
    "    - then $|f(x) - L| < \\varepsilon$\n",
    "  - also called \"epsilon-delta\" definition\n",
    "  - what are these numbers? Arbitrary they only need to be positive\n",
    "    - it's very useful to make the really small"
   ]
  },
  {
   "cell_type": "markdown",
   "metadata": {},
   "source": [
    "## Limits in Python\n",
    "\n",
    "- to find a limit of a function at a point, just apply the definition\n",
    "  - generate several values of $x$ arround $a$\n",
    "    - don't forget to include positive and negative \"nudges\"\n",
    "  - print the function values at those points\n",
    "  \n",
    "```python\n",
    "def get_limit(f, a):\n",
    "    epsilon = np.array([\n",
    "    10 ** p\n",
    "        for p in np.arange(0, -11, -1, dtype=float)])\n",
    "    \n",
    "    x = np.append(a - epsilon, (a + epsilon[::-1]))\n",
    "    y = f(x)\n",
    "    \n",
    "    return y\n",
    "\n",
    "print get_limit(lambda x: x ** 2, 3)\n",
    "print get_limit(lambda x: x ** 2 + 3 * x, 2)\n",
    "print get_limit(lambda x: np.sin(x), 0)\n",
    "```"
   ]
  },
  {
   "cell_type": "markdown",
   "metadata": {},
   "source": [
    "## More Limits\n",
    "\n",
    "- some functions dont have values on certain points\n",
    "  - but they are defined \"arround\" this points\n",
    "  - the limit exist even though the function value doesn't  \n",
    "  $\\lim_{x\\to 0} \\frac{sin(x)}{x} = 1 $\n",
    "- some limits can be infinite: $\\lim_{x\\to\\infty} x^2 = \\infty$\n",
    "- some functions \"jump\"\n",
    "  - the limit \"from the left\" and \"from the right\" are different\n",
    "    - therefore the limit is not defined\n",
    "    - we say that the function is not continuous at that point\n",
    "- example: \n",
    "  - in this case $f(0) = 0$ but the limit does not exist  \n",
    "  $f(x) = \\begin{cases} -1, x<0 \\\\ 0, x=0\\\\1, x=1\\end{cases}$  \n",
    "  $\\lim_{x\\to 0^-} f(x) = -1$  \n",
    "  $\\lim_{x\\to 0^+} f(x) = 1$\n",
    "  \n",
    "  ![Limits](limits.png)\n",
    "  \n",
    "  More information: http://xaktly.com/MathLimits.html"
   ]
  },
  {
   "cell_type": "markdown",
   "metadata": {},
   "source": [
    "## Calculus Motivation\n",
    "\n",
    "- say you want to complete an area of a circle\n",
    "  - it is $\\pi R^2$ but why?\n",
    "  - remember how you can divide a shape into simpler shapes and sum their areas to get the total area\n",
    "    - one way: cut it like cake\n",
    "    - another way: concentrics rings\n",
    "  - if you \"cut\" and \"straighten\" each ring, you will get a trapezoid\n",
    "    - if your ring is very, very thin - it will actually close to rectangle\n",
    "    ![Trapezoid in Calculus](trapezoid-calculus.png)\n",
    "    - set the difference to be very, very small: $r_3 - r_2 \\rightarrow 0$\n",
    "    - and you get calculus\n",
    "- even in this simple example, there are the notion about derivatives and integrals, even the funamental theorem of calculus."
   ]
  },
  {
   "cell_type": "markdown",
   "metadata": {},
   "source": [
    "## Derivatives and velocity\n",
    "\n",
    "- we all know that $v = \\frac{s}{t}$\n",
    "  - but it is almost useless\n",
    "  - traveling is not done at a uniform velocity, it's not a fixed number but a function of a time $v = v(t)$\n",
    "- instantaneous velocity: $v(t_0) = v(t)|\\small{t=t_0}$\n",
    "- computing instantaneous velocity from travelled distance\n",
    "  - say, $s(t)=t^2$, say that we start at $t=0$s and finish at $t=5$s\n",
    "    - final distance $s(5) = 5^2 = 25$m\n",
    "  - avarage speed: $\\frac{25}{5} = 5\\frac{m}{s}$\n",
    "  - but we cover different distance for the same time:\n",
    "    - from $0 \\leq t \\leq 1: s(1) - s(0) = 1 - 0 = 1m$ \n",
    "    - from $3 \\leq t \\leq 4: s(4) - s(3) = 16 - 9 = 7m$ \n",
    "    - from $4 \\leq t \\leq 5: s(5) - s(4) = 25 - 16 = 9m$ \n",
    "    - and neither of this is even close to the avarage speed\n",
    "- let's calculate the instantaneous velocity\n",
    "  - fix time at $t = 3$\n",
    "  - but how can we move if the time is fixed?\n",
    "- let's apply the idea of the limits\n",
    "  - nudge time a tiny bit and see how the distance changes\n",
    "    - $t=3.01: v \\approx \\frac{s(3.01) - s(3)}{3.01 - 3} = \\frac{3.01^2 - 3^2}{0.01} = 6.01 \\frac{m}{s}$\n",
    "    - $t=3.00001: v \\approx \\frac{s(3.00001) - s(3)}{3.00001 - 3} = \\frac{3.00001^2 - 3^2}{0.00001} = 6.0001 \\frac{m}{s}$\n",
    "  - more generally: if wee nudge the time from $t = t_0$ to $t = t_0 + \\Delta$, we will get an approximation of the instantaneous velocity:  \n",
    "  $v \\approx \\frac{s(t + \\Delta t) - s(t)}{t + \\Delta t - t} = \\frac{s(t + \\Delta t) - s(t)}{\\Delta t}$\n",
    "  - this approximation will get increasingly **more accurate** if $\\Delta t$ becomes **smaller**\n",
    "  - smaller  $\\Delta t \\Rightarrow $ better approximation of $v$"
   ]
  },
  {
   "cell_type": "code",
   "execution_count": null,
   "metadata": {},
   "outputs": [],
   "source": []
  }
 ],
 "metadata": {
  "kernelspec": {
   "display_name": "Python 3",
   "language": "python",
   "name": "python3"
  },
  "language_info": {
   "codemirror_mode": {
    "name": "ipython",
    "version": 3
   },
   "file_extension": ".py",
   "mimetype": "text/x-python",
   "name": "python",
   "nbconvert_exporter": "python",
   "pygments_lexer": "ipython3",
   "version": "3.7.3"
  }
 },
 "nbformat": 4,
 "nbformat_minor": 2
}
