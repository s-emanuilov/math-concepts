{
 "cells": [
  {
   "cell_type": "markdown",
   "metadata": {},
   "source": [
    "<h1>High Scool Math Concepts</h1>\n",
    "\n",
    "- Scientific notation\n",
    "  - used for very large or small numbers;\n",
    "  - numbers are expressed as decimals with **exactly one** digit before the decimal point;\n",
    "  - all other digits are expressed as power of 10;\n",
    "  - $ 15 000 = 1,5 . 10^{4} $\n",
    "  - $ 0,000015 = 1,5 . 10^{-5} $\n",
    "- Summation notation (\"sigma\" notation)\n",
    "  - used as a shorthand for writing long sums of numbers/symbols;\n",
    "  - very similar to for loop;\n",
    "  - greek capital \"sigma\" denotes the sum, the two numbers below and above it denote the start and the ends points;\n",
    "  - $ \\sum\\limits_{i=1}^5i = 1 + 2 + 3 + 4 + 5 $\n",
    "  - $ \\sum\\limits_{k=1}^n x_k = x_1 + x_2 + ... + x_n $"
   ]
  },
  {
   "cell_type": "code",
   "execution_count": null,
   "metadata": {},
   "outputs": [],
   "source": []
  }
 ],
 "metadata": {
  "kernelspec": {
   "display_name": "Python 3",
   "language": "python",
   "name": "python3"
  },
  "language_info": {
   "codemirror_mode": {
    "name": "ipython",
    "version": 3
   },
   "file_extension": ".py",
   "mimetype": "text/x-python",
   "name": "python",
   "nbconvert_exporter": "python",
   "pygments_lexer": "ipython3",
   "version": "3.7.3"
  }
 },
 "nbformat": 4,
 "nbformat_minor": 2
}
