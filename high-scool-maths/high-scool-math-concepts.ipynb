{
 "cells": [
  {
   "cell_type": "markdown",
   "metadata": {},
   "source": [
    "## High Scool Math Concepts\n",
    "\n",
    "- Scientific notation\n",
    "  - used for very large or small numbers;\n",
    "  - numbers are expressed as decimals with **exactly one** digit before the decimal point;\n",
    "  - all other digits are expressed as power of 10;\n",
    "  - $ 15 000 = 1,5 . 10^{4} $\n",
    "  - $ 0,000015 = 1,5 . 10^{-5} $\n",
    "  - $1 000 000 = 1,0 . 10^{6} $\n",
    "  - $ 0,000001 = 1,0 . 1e^{-6}  $\n",
    "- Summation notation (\"sigma\" notation)\n",
    "  - used as a shorthand for writing long sums of numbers/symbols;\n",
    "  - very similar to for loop;\n",
    "  - greek capital \"sigma\" denotes the sum, the two numbers below and above it denote the start and the ends points;\n",
    "  - $ \\sum\\limits_{i=1}^5i = 1 + 2 + 3 + 4 + 5 $\n",
    "  - $ \\sum\\limits_{k=1}^n x_k = x_1 + x_2 + ... + x_n $"
   ]
  },
  {
   "cell_type": "markdown",
   "metadata": {
    "pycharm": {
     "is_executing": false
    }
   },
   "source": [
    "## Equility sign\n",
    "- important as have different meanings:\n",
    "  - similar to programming \"=\", \"==\" and \"===\"\n",
    "- **identity**\n",
    "  - the two statement arrond \"=\" are always identical: $ x(x+3) = x^2 + 3x$\n",
    "  - we can always use the \"identity\" symbol: $ (a+b)^2 \\equiv a^2 + 2ab + b^2$\n",
    "- **equation**\n",
    "  - the two statements are true only for specific values of the symbols:\n",
    "    - $ 2x + 5 = 4, x = -0,5 $\n",
    "    - $ x^2 - 1 = 0, x = \\pm 1$\n",
    "    - $ \\frac{dx}{dt} = 5x - 3 $\n",
    "- **definition**\n",
    "  - we can use := or $\\triangleq or \\equiv$\n",
    "  - $ \\sum\\limits i := \\sum\\limits_{i=1}^n := 1 + 2 + 3 + ... + n $"
   ]
  },
  {
   "cell_type": "markdown",
   "metadata": {},
   "source": [
    "## Linear equations - review\n",
    "- equation of **variable** x\n",
    "- **x** is \"on its own\":\n",
    "  - not isnide a function (eg. $ \\sin(x), \\frac{1}{x}, e^x$);\n",
    "  - no power (eg. $x^3$);\n",
    "- general form: ax + b = 0;\n",
    "  - **a** and **b** are fixed numbers (parameters);\n",
    "- examples:\n",
    "  - 2x + 3 = 0\n",
    "  - 2(2x + 3) - 3x - 3(-4 + 3x) = 12\n",
    "- solutions of the parametric equation:\n",
    "  - a = 0, b = 0 $\\Rightarrow$ 0.x = 0, $\\forall x$ (every x is solution)\n",
    "  - a = 0, b $\\neq$ 0, $\\Rightarrow$ 0.x = -b (no solution)\n",
    "  - a $\\neq$ 0 $\\Rightarrow$ x = $\\frac{-b}{a}$ (one solution, regardless of **b**) \n"
   ]
  },
  {
   "cell_type": "code",
   "execution_count": 3,
   "metadata": {},
   "outputs": [],
   "source": [
    "import math\n",
    "\n",
    "def solve_linear_equation(a, b):\n",
    "    \"\"\"\n",
    "    Function which solve linear equation\n",
    "    \"\"\"\n",
    "    if a == 0:\n",
    "        if b == 0:\n",
    "            return []\n",
    "        else:\n",
    "            return math.nan\n",
    "    else:\n",
    "        return -b/a\n",
    "    "
   ]
  },
  {
   "cell_type": "code",
   "execution_count": 6,
   "metadata": {},
   "outputs": [
    {
     "data": {
      "text/plain": [
       "2.12"
      ]
     },
     "execution_count": 6,
     "metadata": {},
     "output_type": "execute_result"
    }
   ],
   "source": [
    "solve_linear_equation(0, 0) # []\n",
    "solve_linear_equation(0, 5) # nan\n",
    "solve_linear_equation(5, 0) #  0.0\n",
    "solve_linear_equation(5, 5) # -1.0\n",
    "solve_linear_equation(2.5, -5.3) # 2.12"
   ]
  },
  {
   "cell_type": "markdown",
   "metadata": {},
   "source": [
    "## Linear system of equations\n",
    "- many simultaneous equations\n",
    "  - to solve the system we need to find the variable(s) which satisfies **all** equations at once;\n",
    "  - even if all infividual equations has solutions, the system may have no solution.\n",
    "- solution\n",
    "  - method 1: solve one equation and substitute;\n",
    "  - method 2: use sum of equations.\n",
    "- exampe:\n",
    "  - $ \\begin{cases} 4x + 3y = 7 \\\\ 3x + 5y = 8 \\\\ x - 2y = -1 \\end{cases} $\n",
    "  - $ \\Rightarrow (x, y) = (1, 1) $ is the only solution of the system\n",
    "  - **note** - the number of the equations and variables matter"
   ]
  }
 ],
 "metadata": {
  "kernelspec": {
   "display_name": "Python 3",
   "language": "python",
   "name": "python3"
  },
  "language_info": {
   "codemirror_mode": {
    "name": "ipython",
    "version": 3
   },
   "file_extension": ".py",
   "mimetype": "text/x-python",
   "name": "python",
   "nbconvert_exporter": "python",
   "pygments_lexer": "ipython3",
   "version": "3.7.3"
  }
 },
 "nbformat": 4,
 "nbformat_minor": 2
}
