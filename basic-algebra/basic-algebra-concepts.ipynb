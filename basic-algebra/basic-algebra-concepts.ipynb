{
 "cells": [
  {
   "cell_type": "markdown",
   "metadata": {},
   "source": [
    "## Polynomials\n",
    "\n",
    "- We already looked at linear and quadratic equations\n",
    "- Term monomial: $2x^2$\n",
    "  - coefficient (number), variable, power (number $\\geq$ 0)\n",
    "- Polynomial **is sum of monomials**\n",
    "  - $2x^4 + 3x^2 - 0,5x + 2,72$\n",
    "  - degree of polynomial - the highest degree of the variable (with coefficient $\\neq$ 0)\n",
    "- Operations\n",
    "  - defined the same way as with numbers\n",
    "  - addition and substraction\n",
    "    - $(2x^2 + 5x - 8) + (3x^4 - 2) = 3x^4 + 2x^2 + 5x - 10$\n",
    "  - multiplication and division\n",
    "    - $(2x^2 + 5x - 8)(3x^4 - 2) = 6x^6 + 15x^5 - 24x^4 - 4x^2 - 10x + 16$"
   ]
  },
  {
   "cell_type": "markdown",
   "metadata": {},
   "source": [
    "## Polynomials in Python\n",
    "\n",
    "- numpy has module to work with polynomials\n",
    "  - includes the \"general\" polynomials, as well as few special cases\n",
    "    - Chebishev, Legandre, Hermit\n",
    "- storing polynomials\n",
    "  - as arrays (index => power, value => coefficient)\n",
    "  - keep in mind that this will look \"reversed\" relative to the way we write\n",
    "    ```python\n",
    "    import numpy.polynomial.polynomial as p\n",
    "    p.polyadd([-8, 5, 2],[-2, 0, 0, 0, 3])\n",
    "    p.polymul([-8, 5, 2],[-2, 0, 0, 0, 3])\n",
    "    ```"
   ]
  },
  {
   "cell_type": "markdown",
   "metadata": {},
   "source": [
    "- use **sympy** to print the polynomial\n",
    "  - if it is a list, use it directly\n",
    "  - if it is a Polynomial object, call the coeficient property\n",
    "- reverse the order of coefficients (sympy expect them from highest lo lowest)\n",
    "```python\n",
    "import sympy\n",
    "from sympy.abc import x\n",
    "polynomial = p.Polynomial([-2, 0, 0, 0, 3])\n",
    "sympy.init_printing()\n",
    "print(sympy.Poly(reversed(polynomial.coef), x).as_expr())\n",
    "```"
   ]
  },
  {
   "cell_type": "markdown",
   "metadata": {},
   "source": [
    "## Set\n",
    "\n",
    "- an unordered collection of things\n",
    "  - usually numbers\n",
    "  - no repetitions\n",
    "- Set notation: $ \\{ x \\in \\mathbb{R} | x \\geq 0 \\} $\n",
    "  - the set of numbers x, which are subset of the real numbers, which are greater than or equal to zero;\n",
    "  - left: example element\n",
    "  - right: conditions to satisfy\n",
    "- Python set comprehensions\n",
    "  - very similar to list comprehensions (but with curly braces)\n",
    "```python\n",
    "positive_x = {x for x in range(-5, 5) if x >= 0 }\n",
    "#{0, 1, 2, 3, 4]\n",
    "```"
   ]
  },
  {
   "cell_type": "markdown",
   "metadata": {},
   "source": [
    "## Set operations\n",
    "\n",
    "- cardinality: number of elements;\n",
    "- checking whether element is in set: $x \\in S$ \n",
    "- checking whether a set is subset of another set: $S_1 \\subseteq S_2$\n",
    "- union $S_1 \\cup S_2$\n",
    "- intersenction $S_1 \\cap S_2$\n",
    "- difference $S_1 \\setminus S_2$\n",
    "\n",
    "```python\n",
    "set1 = {1, 2, 3, 4}\n",
    "set2 = {3, 4, 5, 10, 3, 5, 10, 3, 3}\n",
    "print(len(set2)) # 4\n",
    "print(1 in set1) # True\n",
    "print(10 not in set1) # True\n",
    "print({1, 2}.issubset(set1)) # True\n",
    "print(set1.union(set2) # {1, 2, 3, 4, 5, 10}\n",
    "print(set1.difference(set2)) # {1, 2}\n",
    "print(set2.difference(set1)) # {10, 5}\n",
    "print(set1.symmetric_difference(set2)) # {1, 2, 5, 10}\n",
    "```"
   ]
  },
  {
   "cell_type": "markdown",
   "metadata": {},
   "source": [
    "## Function\n",
    "\n",
    "- a relation between:\n",
    "  - a set of inputs **x** (domain);\n",
    "  - and a set of outputs **y** (codomain);\n",
    "  - **one input produces exactly one output;**\n",
    "  - the input don't need to be numbers;\n",
    "  - functions don't know how to compute the output, they're just mappings;\n",
    "    - in programming we are writing procedures;\n",
    "- math notation: $ f : X \\rightarrow Y$\n",
    "  - commonly abbriviated with: $ y = f(x)$\n",
    "- some more deffinitions\n",
    "  - **injective** (one to one) - unique inputs -> uniqui outputs\n",
    "  - **surjectice** (onto) - every element in the codomain is mapped \n",
    "  - **bijective** (one to one correspondance) - injective are surjective\n",
    "  - here is the graphical view: https://www.mathsisfun.com/sets/injective-surjective-bijective.html"
   ]
  },
  {
   "cell_type": "markdown",
   "metadata": {},
   "source": [
    "## Function composition\n",
    "\n",
    "- also called **pipelining** in most languages\n",
    "- takes two functions and applied them in order\n",
    "  - **innermost or outermost**\n",
    "  - math notation: $ f \\circ g = f(g(x))$\n",
    "  - can be generalized to more functions\n",
    "- note that **the order matters**:  \n",
    "  - $f(x) = 2x + 3, g(x) = x^2$\n",
    "  - $(f \\circ g)(x) = f(g(x)) = f(x^2) = 2x^2 + 3 $\n",
    "  - $(g \\circ f)(x) = g(f(x)) = g(2x+3) = (2x+3)^2 $\n",
    "- this kind of notation can be confused sometimes\n",
    "  - *x* is only placeholder for the input\n",
    "  - we've used same letter *x* for different inputs\n",
    "  - **tip** - when working with complicated functuions, be very careful what the inputs and outputs are, and how variables depend on other variables\n",
    "  - functions and compositions are the basis of functional programming: https://en.wikipedia.org/wiki/Functional_programming \n",
    "  \n",
    "  ![Functions Compositions](functions-compositions.png)"
   ]
  },
  {
   "cell_type": "markdown",
   "metadata": {
    "pycharm": {
     "is_executing": false
    }
   },
   "source": [
    "## Function Graphs\n",
    "\n",
    "- One very intuitive way to know functions is to plot them\n",
    "  - generate value in the domain (independant variable)\n",
    "  - for each value compute the output (dependant variable)\n",
    "  - create a graph; plot all computed points and connect them with lines\n",
    "- **lambda** in Python is short syntax for a function\n",
    "\n",
    "```python\n",
    "import numpy as np\n",
    "import matplotlib.pyplot as plt\n",
    "\n",
    "def plot_function(f, x_min=-10, x_max=10, n_values=2000):\n",
    "    x = np.linspace(x_min, x_max, n_values)\n",
    "    y = f(x)\n",
    "    plt.plot(x, y)\n",
    "    plt.show()\n",
    "\n",
    "plot_function(lambda x:np.sin(x))\n",
    "```"
   ]
  },
  {
   "cell_type": "markdown",
   "metadata": {},
   "source": [
    "## Number Fields\n",
    "\n",
    "- Field\n",
    "  - a collection of values with operations \"plus\" and \"times\"\n",
    "  - algebra is so abstract we can redefine these operations\n",
    "- History of Number fields\n",
    "  - natural (counting) numbers - $ \\mathbb{N} = \\{0, 1, 2, ...\\}$\n",
    "  - integers - $ \\mathbb{Z} = \\{.., -2, -1,0, 1, 2, ...\\}$\n",
    "    - substraction\n",
    "  - rational numbers  $ \\mathbb{Q} $: ration of two integers\n",
    "    - division\n",
    "    - this is the smallest field\n",
    "  - real numbers $ \\mathbb{R} = \\mathbb{Q} \\cup \\mathbb{I}$\n",
    "    - most roots (example $ \\sqrt{2} $)\n",
    "  - complex numbers $ \\mathbb{C} $\n",
    "    - all roots (including square roots of negative numbers)\n",
    "    - **\"imiginary unit\"**: $i$ is the possible solution of $x^2 = -1$"
   ]
  },
  {
   "cell_type": "code",
   "execution_count": null,
   "metadata": {},
   "outputs": [],
   "source": []
  }
 ],
 "metadata": {
  "kernelspec": {
   "display_name": "Python 3",
   "language": "python",
   "name": "python3"
  },
  "language_info": {
   "codemirror_mode": {
    "name": "ipython",
    "version": 3
   },
   "file_extension": ".py",
   "mimetype": "text/x-python",
   "name": "python",
   "nbconvert_exporter": "python",
   "pygments_lexer": "ipython3",
   "version": "3.7.3"
  }
 },
 "nbformat": 4,
 "nbformat_minor": 2
}
