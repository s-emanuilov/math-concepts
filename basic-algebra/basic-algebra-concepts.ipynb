{
 "cells": [
  {
   "cell_type": "markdown",
   "metadata": {},
   "source": [
    "## Polynomials\n",
    "\n",
    "- We already looked at linear and quadratic equations\n",
    "- Term monomial: $2x^2$\n",
    "  - coefficient (number), variable, power (number $\\geq$ 0)\n",
    "- Polynomial **is sum of monomials**\n",
    "  - $2x^4 + 3x^2 - 0,5x + 2,72$\n",
    "  - degree of polynomial - the highest degree of the variable (with coefficient $\\neq$ 0)\n",
    "- Operations\n",
    "  - defined the same way as with numbers\n",
    "  - addition and substraction\n",
    "    - $(2x^2 + 5x - 8) + (3x^4 - 2) = 3x^4 + 2x^2 + 5x - 10$\n",
    "  - multiplication and division\n",
    "    - $(2x^2 + 5x - 8)(3x^4 - 2) = 6x^6 + 15x^5 - 24x^4 - 4x^2 - 10x + 16$"
   ]
  },
  {
   "cell_type": "markdown",
   "metadata": {},
   "source": [
    "## Polynomials in Python\n",
    "\n",
    "- numpy has module to work with polynomials\n",
    "  - includes the \"general\" polynomials, as well as few special cases\n",
    "    - Chebishev, Legandre, Hermit\n",
    "- storing polynomials\n",
    "  - as arrays (index => power, value => coefficient)\n",
    "  - keep in mind that this will look \"reversed\" relative to the way we write\n",
    "    ```python\n",
    "    import numpy.polynomial.polynomial as p\n",
    "    p.polyadd([-8, 5, 2],[-2, 0, 0, 0, 3])\n",
    "    p.polymul([-8, 5, 2],[-2, 0, 0, 0, 3])\n",
    "    ```"
   ]
  },
  {
   "cell_type": "markdown",
   "metadata": {},
   "source": [
    "- use **sympy** to print the polynomial\n",
    "  - if it is a list, use it directly\n",
    "  - if it is a Polynomial object, call the coeficient property\n",
    "- reverse the order of coefficients (sympy expect them from highest lo lowest)\n",
    "```python\n",
    "import sympy\n",
    "from sympy.abc import x\n",
    "polynomial = p.Polynomial([-2, 0, 0, 0, 3])\n",
    "sympy.init_printing()\n",
    "print(sympy.Poly(reversed(polynomial.coef), x).as_expr())\n",
    "```"
   ]
  },
  {
   "cell_type": "markdown",
   "metadata": {},
   "source": [
    "## Set\n",
    "\n",
    "- an unordered collection of things\n",
    "  - usually numbers\n",
    "  - no repetitions\n",
    "- Set notation: $ \\{ x \\in \\mathbb{R} | x \\geq 0 \\} $\n",
    "  - the set of numbers x, which are subset of the real numbers, which are greater than or equal to zero;\n",
    "  - left: example element\n",
    "  - right: conditions to satisfy\n",
    "- Python set comprehensions\n",
    "  - very similar to list comprehensions (but with curly braces)\n",
    "```python\n",
    "positive_x = {x for x in range(-5, 5) if x >= 0 }\n",
    "#{0, 1, 2, 3, 4]\n",
    "```"
   ]
  },
  {
   "cell_type": "markdown",
   "metadata": {},
   "source": [
    "## Set operations\n",
    "\n",
    "- cardinality: number of elements;\n",
    "- checking whether element is in set: $x \\in S$ \n",
    "- checking whether a set is subset of another set: $S_1 \\subseteq S_2$\n",
    "- union $S_1 \\cup S_2$\n",
    "- intersenction $S_1 \\cap S_2$\n",
    "- difference $S_1 \\setminus S_2$\n",
    "\n",
    "```python\n",
    "set1 = {1, 2, 3, 4}\n",
    "set2 = {3, 4, 5, 10, 3, 5, 10, 3, 3}\n",
    "print(len(set2)) # 4\n",
    "print(1 in set1) # True\n",
    "print(10 not in set1) # True\n",
    "print({1, 2}.issubset(set1)) # True\n",
    "print(set1.union(set2) # {1, 2, 3, 4, 5, 10}\n",
    "print(set1.difference(set2)) # {1, 2}\n",
    "print(set2.difference(set1)) # {10, 5}\n",
    "print(set1.symmetric_difference(set2)) # {1, 2, 5, 10}\n",
    "```"
   ]
  },
  {
   "cell_type": "markdown",
   "metadata": {},
   "source": [
    "## Function\n",
    "\n",
    "- a relation between:\n",
    "  - a set of inputs **x** (domain);\n",
    "  - and a set of outputs **y** (codomain);\n",
    "  - **one input produces exactly one output;**\n",
    "  - the input don't need to be numbers;\n",
    "  - functions don't know how to compute the output, they're just mappings;\n",
    "    - in programming we are writing procedures;\n",
    "- math notation: $ f : X \\rightarrow Y$\n",
    "  - commonly abbriviated with: $ y = f(x)$\n",
    "- some more deffinitions\n",
    "  - **injective** (one to one) - unique inputs -> uniqui outputs\n",
    "  - **surjectice** (onto) - every element in the codomain is mapped \n",
    "  - **bijective** (one to one correspondance) - injective are surjective\n",
    "  - here is the graphical view: https://www.mathsisfun.com/sets/injective-surjective-bijective.html"
   ]
  },
  {
   "cell_type": "markdown",
   "metadata": {},
   "source": [
    "## Function composition\n",
    "\n",
    "- also called **pipelining** in most languages\n",
    "- takes two functions and applied them in order\n",
    "  - **innermost or outermost**\n",
    "  - math notation: $ f \\circ g = f(g(x))$\n",
    "  - can be generalized to more functions\n",
    "- note that **the order matters**:  \n",
    "  - $f(x) = 2x + 3, g(x) = x^2$\n",
    "  - $(f \\circ g)(x) = f(g(x)) = f(x^2) = 2x^2 + 3 $\n",
    "  - $(g \\circ f)(x) = g(f(x)) = g(2x+3) = (2x+3)^2 $\n",
    "- this kind of notation can be confused sometimes\n",
    "  - *x* is only placeholder for the input\n",
    "  - we've used same letter *x* for different inputs\n",
    "  - **tip** - when working with complicated functuions, be very careful what the inputs and outputs are, and how variables depend on other variables\n",
    "  - functions and compositions are the basis of functional programming: https://en.wikipedia.org/wiki/Functional_programming \n",
    "  \n",
    "  ![Functions Compositions](functions-compositions.png)"
   ]
  },
  {
   "cell_type": "markdown",
   "metadata": {
    "pycharm": {
     "is_executing": false
    }
   },
   "source": [
    "## Function Graphs\n",
    "\n",
    "- One very intuitive way to know functions is to plot them\n",
    "  - generate value in the domain (independant variable)\n",
    "  - for each value compute the output (dependant variable)\n",
    "  - create a graph; plot all computed points and connect them with lines\n",
    "- **lambda** in Python is short syntax for a function\n",
    "\n",
    "```python\n",
    "import numpy as np\n",
    "import matplotlib.pyplot as plt\n",
    "\n",
    "def plot_function(f, x_min=-10, x_max=10, n_values=2000):\n",
    "    x = np.linspace(x_min, x_max, n_values)\n",
    "    y = f(x)\n",
    "    plt.plot(x, y)\n",
    "    plt.show()\n",
    "\n",
    "plot_function(lambda x:np.sin(x))\n",
    "```"
   ]
  },
  {
   "cell_type": "markdown",
   "metadata": {},
   "source": [
    "## Number Fields\n",
    "\n",
    "- Field\n",
    "  - a collection of values with operations \"plus\" and \"times\"\n",
    "  - algebra is so abstract we can redefine these operations\n",
    "- History of Number fields\n",
    "  - natural (counting) numbers - $ \\mathbb{N} = \\{0, 1, 2, ...\\}$\n",
    "  - integers - $ \\mathbb{Z} = \\{.., -2, -1,0, 1, 2, ...\\}$\n",
    "    - substraction\n",
    "  - rational numbers  $ \\mathbb{Q} $: ration of two integers\n",
    "    - division\n",
    "    - this is the smallest field\n",
    "  - real numbers $ \\mathbb{R} = \\mathbb{Q} \\cup \\mathbb{I}$\n",
    "    - most roots (example $ \\sqrt{2} $)\n",
    "  - complex numbers $ \\mathbb{C} $\n",
    "    - all roots (including square roots of negative numbers)\n",
    "    - **\"imiginary unit\"**: $i$ is the possible solution of $x^2 = -1$"
   ]
  },
  {
   "cell_type": "markdown",
   "metadata": {
    "pycharm": {
     "is_executing": false
    }
   },
   "source": [
    "## Complex Numbers\n",
    "\n",
    "- pairs of real numbers $(a;b) : a, b \\in \\mathbb{R} $\n",
    "  - common writen as $ a + bi$\n",
    "  - real part - $Re(a+bi) = a, imaginari part: Im(a+bi)=b$\n",
    "- in Python we use \"j\" instead \"i\", example: 3j, 1j, etc\n",
    "  - we write 1j to prevent confusion with the variable j\n",
    "  - for the same reason we dont write 2 * j, if **j** is the imaginary unit\n",
    "- we can get real and imaginary part:\n",
    "```python\n",
    "z = 3 + 2j\n",
    "print(z.real) # 3\n",
    "print(z.imag) # 2\n",
    "```\n",
    "- adding and multipling complex numbers\n",
    "```python\n",
    "print((3 + 2j) + (8 - 3j)) # (11 - 1j)\n",
    "print((3 + 2j) * (8 - 3j)) # (30 + 7j)\n",
    "```"
   ]
  },
  {
   "cell_type": "markdown",
   "metadata": {
    "pycharm": {
     "is_executing": false
    }
   },
   "source": [
    "## Geometric interpretation\n",
    "\n",
    "- intuition\n",
    "  - we can plot the coordinates plate on plane\n",
    "  - each point in 2D space represents one complex number\n",
    "  \n",
    "![Complex numbers](complex-numbers-plot.png)"
   ]
  },
  {
   "cell_type": "markdown",
   "metadata": {},
   "source": [
    "## Euler's formula\n",
    "\n",
    "- Leonhard Euler proved that $e^{i\\varphi} = cos(\\varphi) + isin(\\varphi)$\n",
    "  - beatiful consequence: $e^{i\\pi} + 1 = 0$\n",
    "  - summary of the proof of Eurler's formula [here](https://en.wikipedia.org/wiki/Euler%27s_formula#Proofs)\n",
    "- now we can write complex numbers as $ z = |z|e^{i\\varphi}$\n",
    "- why and how does multiplication works:\n",
    "  - multiplication by real number:\n",
    "    - scales the original vector\n",
    "  - multiplication by a imaginary number\n",
    "    - rotates the original vector\n",
    "- **main point** - multiplication of complex numbers is the same as scalling and rotate 2D vectors."
   ]
  },
  {
   "cell_type": "markdown",
   "metadata": {},
   "source": [
    "## Fundamental theorem of algebra\n",
    "\n",
    "- \"Every non zero, single variable, degree-n polynomial with complex coefficients has, countet with multiplicity, exactly n complex roots.\"\n",
    "  - more simply said - \"every algebraic equation has as many roots as his power\"\n",
    "- back to quadratic equations\n",
    "  - how do we get all roots?\n",
    "  - simply use the complex math Python module: **cmath**\n",
    "  \n",
    "```python\n",
    "import cmath\n",
    "def solve_quadratic_equation(a, b, c):\n",
    "    discriminant = cmath.sqrt(b * b - 4 * a * c)\n",
    "    return [\n",
    "    (-b + discriminant) / (2 * a)\n",
    "    (-b - discriminant) / (2 * a)]\n",
    "\n",
    "print(solve_quadratic_equation(1, -3, -4)) # [(4+0j), (-1 + 0j)]\n",
    "print(solve_quadratic_equation(1, 0, -4)) # [(2+0j), (-2 + 0j)]\n",
    "print(solve_quadratic_equation(1, 2, 1)) # [(-1+0j), (-1 + 0j)]\n",
    "print(solve_quadratic_equation(1, 4, 5)) # [(-2+1j), (-2 - 1j)]\n",
    "```"
   ]
  },
  {
   "cell_type": "markdown",
   "metadata": {},
   "source": [
    "## Galois Field\n",
    "\n",
    "- in everyday algebra we usually think about field as those we already known (e.g. field of real numbers)\n",
    "- but since algebra is abstract we can define our own fields\n",
    "- Galois Field: GF(2)\n",
    "  - elements {0, 1}\n",
    "  - addition: equivalent to XOR\n",
    "  - multiplication: as usual\n",
    "- **usage: in cryptography**\n",
    "- Galois Field in Cryptography paper - [here](https://drive.google.com/file/d/11zX-uRn0Gh40AWNDajxFPohQ8mGLdQkj/view)  \n",
    "![Galois Field](galois-field.png)  "
   ]
  },
  {
   "cell_type": "markdown",
   "metadata": {},
   "source": [
    "## A note about Vectors\n",
    " \n",
    "- one more application of abstractions\n",
    "- **vector**\n",
    "  - a line segment with direction\n",
    "- we saw that 2D vectors and 2D points has one-to-one correspondance\n",
    "  - a point can be represented as its **radius vector**\n",
    "- a vector is also an ordered tuple of coordinates\n",
    "  - that's why we were able to take out thinking of points and apply it to complex numbers\n",
    "- we usualy represent vector as Python lists: [2, 3, -5]\n",
    "  - can we think of the lists as mappings: 0 => 2, 1 => 3, 2 => -5"
   ]
  },
  {
   "cell_type": "code",
   "execution_count": 0,
   "metadata": {
    "pycharm": {
     "is_executing": false
    }
   },
   "outputs": [],
   "source": []
  }
 ],
 "metadata": {
  "kernelspec": {
   "display_name": "Python 3",
   "language": "python",
   "name": "python3"
  },
  "language_info": {
   "codemirror_mode": {
    "name": "ipython",
    "version": 3
   },
   "file_extension": ".py",
   "mimetype": "text/x-python",
   "name": "python",
   "nbconvert_exporter": "python",
   "pygments_lexer": "ipython3",
   "version": "3.7.3"
  }
 },
 "nbformat": 4,
 "nbformat_minor": 2
}
