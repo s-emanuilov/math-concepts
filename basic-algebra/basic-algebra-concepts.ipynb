{
 "cells": [
  {
   "cell_type": "markdown",
   "metadata": {},
   "source": [
    "## Polynomials\n",
    "\n",
    "- We already looked at linear and quadratic equations\n",
    "- Term monomial: $2x^2$\n",
    "  - coefficient (number), variable, power (number $\\geq$ 0)\n",
    "- Polynomial **is sum of monomials**\n",
    "  - $2x^4 + 3x^2 - 0,5x + 2,72$\n",
    "  - degree of polynomial - the highest degree of the variable (with coefficient $\\neq$ 0)\n",
    "- Operations\n",
    "  - defined the same way as with numbers\n",
    "  - addition and substraction\n",
    "    - $(2x^2 + 5x - 8) + (3x^4 - 2) = 3x^4 + 2x^2 + 5x - 10$\n",
    "  - multiplication and division\n",
    "    - $(2x^2 + 5x - 8)(3x^4 - 2) = 6x^6 + 15x^5 - 24x^4 - 4x^2 - 10x + 16$"
   ]
  },
  {
   "cell_type": "markdown",
   "metadata": {},
   "source": [
    "## Polynomials in Python\n",
    "\n",
    "- numpy has module to work with polynomials\n",
    "  - includes the \"general\" polynomials, as well as few special cases\n",
    "    - Chebishev, Legandre, Hermit\n",
    "- storing polynomials\n",
    "  - as arrays (index => power, value => coefficient)\n",
    "  - keep in mind that this will look \"reversed\" relative to the way we write\n",
    "    ```python\n",
    "    import numpy.polynomial.polynomial as p\n",
    "    p.polyadd([-8, 5, 2],[-2, 0, 0, 0, 3])\n",
    "    p.polymul([-8, 5, 2],[-2, 0, 0, 0, 3])\n",
    "    ```"
   ]
  },
  {
   "cell_type": "markdown",
   "metadata": {},
   "source": [
    "- use **sympy** to print the polynomial\n",
    "  - if it is a list, use it directly\n",
    "  - if it is a Polynomial object, call the coeficient property\n",
    "- reverse the order of coefficients (sympy expect them from highest lo lowest)\n",
    "```python\n",
    "import sympy\n",
    "from sympy.abc import x\n",
    "polynomial = p.Polynomial([-2, 0, 0, 0, 3])\n",
    "sympy.init_printing()\n",
    "print(sympy.Poly(reversed(polynomial.coef), x).as_expr())\n",
    "```"
   ]
  },
  {
   "cell_type": "markdown",
   "metadata": {},
   "source": [
    "## Set\n",
    "\n",
    "- an unordered collection of things\n",
    "  - usually numbers\n",
    "  - no repetitions\n",
    "- Set notation: $ \\{ x \\in \\mathbb{R} | x \\geq 0 \\} $\n",
    "  - the set of numbers x, which are subset of the real numbers, which are greater than or equal to zero;\n",
    "  - left: example element\n",
    "  - right: conditions to satisfy\n",
    "- Python set comprehensions\n",
    "  - very similar to list comprehensions (but with curly braces)\n",
    "```python\n",
    "positive_x = {x for x in range(-5, 5) if x >= 0 }\n",
    "#{0, 1, 2, 3, 4]\n",
    "```"
   ]
  },
  {
   "cell_type": "markdown",
   "metadata": {},
   "source": [
    "## Set operations\n",
    "\n",
    "- cardinality: number of elements;\n",
    "- checking whether element is in set: $x \\in S$ \n",
    "- checking whether a set is subset of another set: $S_1 \\subseteq S_2$\n",
    "- union $S_1 \\cup S_2$\n",
    "- intersenction $S_1 \\cap S_2$\n",
    "- difference $S_1 \\setminus S_2$\n",
    "\n",
    "```python\n",
    "set1 = {1, 2, 3, 4}\n",
    "set2 = {3, 4, 5, 10, 3, 5, 10, 3, 3}\n",
    "print(len(set2)) # 4\n",
    "print(1 in set1) # True\n",
    "print(10 not in set1) # True\n",
    "print({1, 2}.issubset(set1)) # True\n",
    "print(set1.union(set2) # {1, 2, 3, 4, 5, 10}\n",
    "print(set1.difference(set2)) # {1, 2}\n",
    "print(set2.difference(set1)) # {10, 5}\n",
    "print(set1.symmetric_difference(set2)) # {1, 2, 5, 10}\n",
    "```"
   ]
  },
  {
   "cell_type": "code",
   "execution_count": null,
   "metadata": {},
   "outputs": [],
   "source": []
  }
 ],
 "metadata": {
  "kernelspec": {
   "display_name": "Python 3",
   "language": "python",
   "name": "python3"
  },
  "language_info": {
   "codemirror_mode": {
    "name": "ipython",
    "version": 3
   },
   "file_extension": ".py",
   "mimetype": "text/x-python",
   "name": "python",
   "nbconvert_exporter": "python",
   "pygments_lexer": "ipython3",
   "version": "3.7.3"
  }
 },
 "nbformat": 4,
 "nbformat_minor": 2
}
