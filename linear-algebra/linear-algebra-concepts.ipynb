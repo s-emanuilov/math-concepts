{
 "cells": [
  {
   "cell_type": "markdown",
   "metadata": {},
   "source": [
    "## Vector Definitions\n",
    "\n",
    "- \"Physics definition\"\n",
    "  - a pointed segment in space\n",
    "- \"Computer science deffinition\"\n",
    "  - a list of obecjts (usually numbers)\n",
    "  - dimensions = length\n",
    "- Math Definition\n",
    "  - encompasses both and allow even more abstraction $\\vec{v}$\n",
    "  - vectors can be added and multiplied (by numbers and by other vectors)\n",
    "  - similar to how we define a field\n",
    "- another perspective\n",
    "  - transformations\n",
    "  - actually, things can be more complicated (tensors)"
   ]
  },
  {
   "cell_type": "markdown",
   "metadata": {},
   "source": [
    "## Vector Components\n",
    "\n",
    "- the distance to all coordinate axes: $v_x, v_y$\n",
    "- equivalent to:  $[\\frac{v_x}{v_y}]$\n",
    "  - polar coordinates: $ v = |\\vec{v}|, \\theta$\n",
    "- finding components\n",
    "  - Pythagoras: $ v_x = vcos(\\theta), v_y = vsin(\\theta)$\n",
    "- finding the polar form (magnitude, direction):\n",
    "  - $v = \\sqrt{v_x^2 + v_y^2}, \\theta = tan^{-1}(\\frac{v_y}{v_x})$\n",
    "- all this operations generalize to more than 2 dimensions\n",
    "**note** - we usually denote vectors by $\\vec{v}$ or with bold **$v$**  \n",
    "![Vector Components](vector-components.png)"
   ]
  },
  {
   "cell_type": "markdown",
   "metadata": {},
   "source": [
    "## Vector Operations\n",
    "\n",
    "- addition\n",
    "  - result:   \n",
    "  **length** = distance from start to end,   \n",
    "  **direction**: start $\\rightarrow$ end\n",
    "  - in component form: sum all components for every direction\n",
    "  ![Vector addition](vector-addition.png)\n",
    "- multiplication by a number (scalar)\n",
    "  - result:   \n",
    "  **length** = scaled length,   \n",
    "  **direction**: same (if scalar $\\geq$ 0, opposite otherwise)\n",
    "  - in component form: multiply each component by the number\n",
    "  ![Vector scalar](vector-scalar.png)\n",
    "- scalar product of two vectors\n",
    "  - also called **dot product** or **inner product**\n",
    "  - result: scalar\n",
    "  - definition: $\\vec{a} . \\vec{b} = |\\vec{a}||\\vec{b}|cos(\\theta)$\n",
    "  - using the vectors components: $ \\vec{a} x \\vec{b} = \\sum\\limits_{i=1}^n {a_i b_i}$ \n",
    "  ![Dot/inner product](dot-product.png)\n",
    "- vector product of two vectors\n",
    "  - also called **cross product**\n",
    "  - result: vector, perpendiculant to both initial vectors\n",
    "  - definition: $\\vec{a} x \\vec{b} = |\\vec{a}||\\vec{b}|sin(\\theta)\\vec{n}$\n",
    "    - $\\vec{n}$ - normal vector\n",
    "    - magnitude: $|\\vec{a}||\\vec{b}|sin(\\theta)$ - volume of parallelogram between $\\vec{a}$ and $\\vec{b}$\n",
    "    - direction: coincides with the direction of $\\vec{n}$\n",
    "    ![Cross product](cross-product.png)"
   ]
  },
  {
   "cell_type": "markdown",
   "metadata": {},
   "source": [
    "## Vector Space\n",
    "\n",
    "- a field (usually $\\mathbb{R}$ or $\\mathbb{C}$): F\n",
    "- a set of elements (vectors): $V$\n",
    "- operations\n",
    "  - additions of two vectors: $w = u + v$\n",
    "  - multiplication by element of the field: $w = \\lambda u$\n",
    "- a check list of [eight axioms of vector space](http://mathworld.wolfram.com/VectorSpace.html)\n",
    "- we read this as \"vector space (or linear space) V over the field F\"\n",
    "- **examples** of vectors spaces:\n",
    "  - coordinate space, e.g. real coordinate space $\\mathbb{R}^n$\n",
    "    - $n$ dimensional vectors\n",
    "  - infinite coordinate space $\\mathbb{R}^\\infty$\n",
    "    - vectors with infinitely many components\n",
    "  - polynomial space\n",
    "    - all polynomials of variable $x$ with real coefficients $\\mathbb{R}[x]$\n",
    "  - function space"
   ]
  },
  {
   "cell_type": "markdown",
   "metadata": {},
   "source": [
    "## Linear Combinations\n",
    "\n",
    "- Vectors: $v_1, v_2, ... , v_n$\n",
    "- Numbers (scalars): $\\lambda_1, \\lambda_2, ... , \\lambda_n$\n",
    "- Linear Combinations\n",
    "  - the sum of each vector multiplied by a scalar coefficient  \n",
    "  $\\lambda_1 v_1 + \\lambda_2 v_2 + ... \\lambda_n v_n = \\sum{\\lambda_i v_i}$\n",
    "  - **why linear?** - no fancy functions, no vector multiplications\n",
    "- span (linear hull) of vectors: the set of all their linear combinations\n",
    "- Linear (in)dipendence\n",
    "  - the vectors $v_1, v_2, ... , v_n$ are **lineary independent** if the only solution of the equation $\\lambda_1 v_1 + \\lambda_2 v_2 + ... \\lambda_n v_n = \\vec{0}$ **is** $\\lambda_1 = 0, \\lambda_2 = 0 ... \\lambda_n = 0$\n",
    "  - conversely, they are **linery dependent** if there is a non-trivial linear combination which is equal to zero\n",
    "  - example:  \n",
    "  $u = (2, -1, 1), v = (3, -4, -2), w = (5, -10, -8)$  \n",
    "  $w = -2u + 3v \\Rightarrow 2u - 3v + 1w = 0$"
   ]
  },
  {
   "cell_type": "markdown",
   "metadata": {},
   "source": [
    "## Basic Vectors\n",
    "\n",
    "![Basic Vectors](basic-vectors.png)\n",
    "- consider: i = (1, 0), j = (0, 1)\n",
    "- now consider the vector a = (-2, 1)\n",
    "- we can see that we can express **a** as the linear combination $ a = -2\\hat{i} + 1\\hat{j}$\n",
    "- **linearly independent**\n",
    "- every other vector in the space can be represented as their linear combination\n",
    "  - this linear combination is unique\n",
    "- **each vector space has a basis**\n",
    "- each pair of two linear vectors forms a basis in 2D coordinate space\n",
    "  - more generally, each sets of n linear vectors forms a basis in n-dimensional vector space "
   ]
  },
  {
   "cell_type": "markdown",
   "metadata": {},
   "source": [
    "## Matrix\n",
    "\n",
    "- a rectangular table of numbers\n",
    "- dimensions: rows x columns\n",
    "  - may also be infinite\n",
    "- examples:  \n",
    "$ A = \\begin{bmatrix} \n",
    "1 & 3 & 5\\\\\n",
    "2 & -4.2 & 8 \n",
    "\\end{bmatrix}\n",
    "$\n",
    "$ B = \\begin{bmatrix} \n",
    "2 & -1 & 1\\\\\n",
    "4 & 7 & 12 \\\\\n",
    "0 & 5 & -3\n",
    "\\end{bmatrix}\n",
    "$\n",
    "$ E = \\begin{bmatrix} \n",
    "1 & 0 & 0\\\\\n",
    "0 & 1 & 0 \\\\\n",
    "0 & 0 & 1\n",
    "\\end{bmatrix}\n",
    "$\n",
    "$ R = \\begin{bmatrix} \n",
    "2 & 4 & 3\n",
    "\\end{bmatrix}\n",
    "$\n",
    "$ C = \\begin{bmatrix} \n",
    "3\\\\\n",
    "2\\\\\n",
    "-5\n",
    "\\end{bmatrix}\n",
    "$\n",
    "    - R - row vector, C - column vector\n",
    "- Elements $ a = {a_{ij}}$\n",
    "- some thoughts about dimensions\n",
    "  - scalars has no dimensions: 2; 3; 18, -42; 0,5\n",
    "  - vectors has one dimension: $v = \\{v_i\\}$\n",
    "  - matrices have two dimensions: $A = \\{ v_{ij} \\}$\n",
    "  - a generalizations of this pattern for many dimensions is called a **tensor**\n",
    "    - a tensors are quite more complicated than this, but for almost all purposes it's OK to think about the as multidimensional matrices. "
   ]
  },
  {
   "cell_type": "markdown",
   "metadata": {},
   "source": [
    "## Matrix Operations"
   ]
  },
  {
   "cell_type": "code",
   "execution_count": null,
   "metadata": {},
   "outputs": [],
   "source": []
  }
 ],
 "metadata": {
  "kernelspec": {
   "display_name": "Python 3",
   "language": "python",
   "name": "python3"
  },
  "language_info": {
   "codemirror_mode": {
    "name": "ipython",
    "version": 3
   },
   "file_extension": ".py",
   "mimetype": "text/x-python",
   "name": "python",
   "nbconvert_exporter": "python",
   "pygments_lexer": "ipython3",
   "version": "3.7.3"
  }
 },
 "nbformat": 4,
 "nbformat_minor": 2
}
